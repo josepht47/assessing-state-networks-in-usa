{
 "cells": [
  {
   "cell_type": "markdown",
   "metadata": {},
   "source": [
    "# Characteristics of Inter-State Networks in the USA\n",
    "\n",
    "## 1.1 Introduction\n",
    "\n",
    "The Declaration of Independence created 13 newly independendant states which later came together to form a confederation under Article I and II of the US Constitution. The articles which dilineated the relation between the individual states and the Union through the words *\"Each state retains its sovereignty, freedom, and independence, and every power, jurisdiction, and right, which is not by this Confederation expressly delegated to the United States, in Congress assembled.\"* also allows the individual states to decide themselves the nature of their relationships with other states. \n",
    "\n",
    "The states have developed linkages among themselves through various mediums like trade, migration, politics, media and communities which have varied over time. Michigan State University started the **Correlates of State Policy Project** aiming to compile, disseminate, and encourage the use of data relevant to U.S. state policy research, tracking policy differences across the 50 states. This analysis uses the State Networks dataset - a compilation of many state-to-state relational variables, including measures of shared borders, travel and trade between states, and demographic characteristics of state populations to arrive at a snapshot of what factors drive interstate relations.\n",
    "\n",
    "Interstate relations are analysed along 3 aspects - political, social and individual, where each are measure through how a state influences another's policies, how much one state considers another state to be similar with itself and the likelihood of having facebook friends in the other state respectively.\n",
    "\n",
    "The 2,550 units in the dataset are dyadic state-pairs (e.g., Alabama–Alaska, Alabama–Arizona, Alabama–Arkansas, and so on, for each state plus the District of Columbia). The data were collected from multiple sources and incorporate measures of similarity drawn from data in the Correlates of State Policy Project."
   ]
  },
  {
   "cell_type": "code",
   "execution_count": 1,
   "metadata": {},
   "outputs": [],
   "source": [
    "import numpy as np\n",
    "import pandas as pd\n",
    "import numpy as np\n",
    "import seaborn as sns\n",
    "import matplotlib.pyplot as plt\n",
    "%matplotlib inline"
   ]
  },
  {
   "cell_type": "markdown",
   "metadata": {},
   "source": [
    "Opening Database"
   ]
  },
  {
   "cell_type": "code",
   "execution_count": 2,
   "metadata": {},
   "outputs": [],
   "source": [
    "sn=pd.read_csv('/Users/josephthomas/Documents/Projects/State Networks/Data/Raw Data/statenetworks.csv')"
   ]
  },
  {
   "cell_type": "code",
   "execution_count": 3,
   "metadata": {
    "scrolled": true
   },
   "outputs": [
    {
     "data": {
      "text/plain": [
       "Index(['State1Abbr', 'State2Abbr', 'State1', 'State2', 'dyadid', 'S1region',\n",
       "       'S2region', 'S1division', 'S2division', 'Border',\n",
       "       ...\n",
       "       'S2BlackProt', 'S2Catholic', 'S2Mormon', 'S2Jewish', 'S2Muslim',\n",
       "       'S2Buddhist', 'S2Hindu', 'S2Nones', 'S2NothingParticular',\n",
       "       'S2HighlyReligious'],\n",
       "      dtype='object', length=124)"
      ]
     },
     "execution_count": 3,
     "metadata": {},
     "output_type": "execute_result"
    }
   ],
   "source": [
    "sn.columns"
   ]
  },
  {
   "cell_type": "code",
   "execution_count": 12,
   "metadata": {},
   "outputs": [],
   "source": [
    "pd.set_option('display.max_rows',200)"
   ]
  },
  {
   "cell_type": "markdown",
   "metadata": {},
   "source": [
    "**Snapshot of data and datatypes**"
   ]
  },
  {
   "cell_type": "code",
   "execution_count": 4,
   "metadata": {},
   "outputs": [
    {
     "data": {
      "text/html": [
       "<div>\n",
       "<style scoped>\n",
       "    .dataframe tbody tr th:only-of-type {\n",
       "        vertical-align: middle;\n",
       "    }\n",
       "\n",
       "    .dataframe tbody tr th {\n",
       "        vertical-align: top;\n",
       "    }\n",
       "\n",
       "    .dataframe thead th {\n",
       "        text-align: right;\n",
       "    }\n",
       "</style>\n",
       "<table border=\"1\" class=\"dataframe\">\n",
       "  <thead>\n",
       "    <tr style=\"text-align: right;\">\n",
       "      <th></th>\n",
       "      <th>Border</th>\n",
       "      <th>Distance</th>\n",
       "      <th>State1_Lat</th>\n",
       "      <th>State1_Long</th>\n",
       "      <th>State2_Lat</th>\n",
       "      <th>State2_Long</th>\n",
       "      <th>ACS_Migration</th>\n",
       "      <th>PopDif</th>\n",
       "      <th>State1_Pop</th>\n",
       "      <th>State2_Pop</th>\n",
       "      <th>...</th>\n",
       "      <th>S2BlackProt</th>\n",
       "      <th>S2Catholic</th>\n",
       "      <th>S2Mormon</th>\n",
       "      <th>S2Jewish</th>\n",
       "      <th>S2Muslim</th>\n",
       "      <th>S2Buddhist</th>\n",
       "      <th>S2Hindu</th>\n",
       "      <th>S2Nones</th>\n",
       "      <th>S2NothingParticular</th>\n",
       "      <th>S2HighlyReligious</th>\n",
       "    </tr>\n",
       "  </thead>\n",
       "  <tbody>\n",
       "    <tr>\n",
       "      <th>count</th>\n",
       "      <td>2550.000000</td>\n",
       "      <td>2450.000000</td>\n",
       "      <td>2500.000000</td>\n",
       "      <td>2500.000000</td>\n",
       "      <td>2450.000000</td>\n",
       "      <td>2450.000000</td>\n",
       "      <td>2550.000000</td>\n",
       "      <td>2.550000e+03</td>\n",
       "      <td>2.550000e+03</td>\n",
       "      <td>2.550000e+03</td>\n",
       "      <td>...</td>\n",
       "      <td>2550.000000</td>\n",
       "      <td>2550.000000</td>\n",
       "      <td>2550.000000</td>\n",
       "      <td>2550.000000</td>\n",
       "      <td>2550.000000</td>\n",
       "      <td>2550.000000</td>\n",
       "      <td>2550.000000</td>\n",
       "      <td>2550.000000</td>\n",
       "      <td>2550.000000</td>\n",
       "      <td>2550.000000</td>\n",
       "    </tr>\n",
       "    <tr>\n",
       "      <th>mean</th>\n",
       "      <td>0.085490</td>\n",
       "      <td>1955.750731</td>\n",
       "      <td>39.450731</td>\n",
       "      <td>-93.465204</td>\n",
       "      <td>39.450730</td>\n",
       "      <td>-93.465204</td>\n",
       "      <td>2071.576078</td>\n",
       "      <td>0.000000e+00</td>\n",
       "      <td>6.313616e+06</td>\n",
       "      <td>6.313616e+06</td>\n",
       "      <td>...</td>\n",
       "      <td>0.056863</td>\n",
       "      <td>0.190000</td>\n",
       "      <td>0.028431</td>\n",
       "      <td>0.012549</td>\n",
       "      <td>0.006078</td>\n",
       "      <td>0.007255</td>\n",
       "      <td>0.003725</td>\n",
       "      <td>0.229020</td>\n",
       "      <td>0.161765</td>\n",
       "      <td>0.546667</td>\n",
       "    </tr>\n",
       "    <tr>\n",
       "      <th>std</th>\n",
       "      <td>0.279665</td>\n",
       "      <td>1428.092762</td>\n",
       "      <td>5.728589</td>\n",
       "      <td>18.483460</td>\n",
       "      <td>5.728612</td>\n",
       "      <td>18.483536</td>\n",
       "      <td>4063.169711</td>\n",
       "      <td>1.022958e+07</td>\n",
       "      <td>7.162140e+06</td>\n",
       "      <td>7.162140e+06</td>\n",
       "      <td>...</td>\n",
       "      <td>0.057320</td>\n",
       "      <td>0.086313</td>\n",
       "      <td>0.079410</td>\n",
       "      <td>0.014933</td>\n",
       "      <td>0.006884</td>\n",
       "      <td>0.011731</td>\n",
       "      <td>0.006557</td>\n",
       "      <td>0.055468</td>\n",
       "      <td>0.035415</td>\n",
       "      <td>0.105343</td>\n",
       "    </tr>\n",
       "    <tr>\n",
       "      <th>min</th>\n",
       "      <td>0.000000</td>\n",
       "      <td>56.255615</td>\n",
       "      <td>21.308950</td>\n",
       "      <td>-157.826182</td>\n",
       "      <td>21.308950</td>\n",
       "      <td>-157.826200</td>\n",
       "      <td>3.000000</td>\n",
       "      <td>-3.851250e+07</td>\n",
       "      <td>5.734830e+05</td>\n",
       "      <td>5.734830e+05</td>\n",
       "      <td>...</td>\n",
       "      <td>0.000000</td>\n",
       "      <td>0.040000</td>\n",
       "      <td>0.000000</td>\n",
       "      <td>0.000000</td>\n",
       "      <td>0.000000</td>\n",
       "      <td>0.000000</td>\n",
       "      <td>0.000000</td>\n",
       "      <td>0.120000</td>\n",
       "      <td>0.090000</td>\n",
       "      <td>0.330000</td>\n",
       "    </tr>\n",
       "    <tr>\n",
       "      <th>25%</th>\n",
       "      <td>0.000000</td>\n",
       "      <td>958.964600</td>\n",
       "      <td>35.771000</td>\n",
       "      <td>-104.802000</td>\n",
       "      <td>35.771000</td>\n",
       "      <td>-104.802042</td>\n",
       "      <td>234.250000</td>\n",
       "      <td>-3.965876e+06</td>\n",
       "      <td>1.694182e+06</td>\n",
       "      <td>1.694182e+06</td>\n",
       "      <td>...</td>\n",
       "      <td>0.020000</td>\n",
       "      <td>0.120000</td>\n",
       "      <td>0.010000</td>\n",
       "      <td>0.000000</td>\n",
       "      <td>0.000000</td>\n",
       "      <td>0.000000</td>\n",
       "      <td>0.000000</td>\n",
       "      <td>0.190000</td>\n",
       "      <td>0.130000</td>\n",
       "      <td>0.480000</td>\n",
       "    </tr>\n",
       "    <tr>\n",
       "      <th>50%</th>\n",
       "      <td>0.000000</td>\n",
       "      <td>1605.739844</td>\n",
       "      <td>39.787096</td>\n",
       "      <td>-89.928686</td>\n",
       "      <td>39.787095</td>\n",
       "      <td>-89.928686</td>\n",
       "      <td>666.000000</td>\n",
       "      <td>0.000000e+00</td>\n",
       "      <td>4.404279e+06</td>\n",
       "      <td>4.404279e+06</td>\n",
       "      <td>...</td>\n",
       "      <td>0.040000</td>\n",
       "      <td>0.180000</td>\n",
       "      <td>0.010000</td>\n",
       "      <td>0.010000</td>\n",
       "      <td>0.010000</td>\n",
       "      <td>0.010000</td>\n",
       "      <td>0.000000</td>\n",
       "      <td>0.220000</td>\n",
       "      <td>0.160000</td>\n",
       "      <td>0.540000</td>\n",
       "    </tr>\n",
       "    <tr>\n",
       "      <th>75%</th>\n",
       "      <td>0.000000</td>\n",
       "      <td>2581.232277</td>\n",
       "      <td>42.733500</td>\n",
       "      <td>-78.638000</td>\n",
       "      <td>42.733500</td>\n",
       "      <td>-78.638000</td>\n",
       "      <td>1911.000000</td>\n",
       "      <td>3.965876e+06</td>\n",
       "      <td>7.318811e+06</td>\n",
       "      <td>7.318811e+06</td>\n",
       "      <td>...</td>\n",
       "      <td>0.080000</td>\n",
       "      <td>0.250000</td>\n",
       "      <td>0.020000</td>\n",
       "      <td>0.020000</td>\n",
       "      <td>0.010000</td>\n",
       "      <td>0.010000</td>\n",
       "      <td>0.010000</td>\n",
       "      <td>0.270000</td>\n",
       "      <td>0.190000</td>\n",
       "      <td>0.630000</td>\n",
       "    </tr>\n",
       "    <tr>\n",
       "      <th>max</th>\n",
       "      <td>1.000000</td>\n",
       "      <td>8232.177857</td>\n",
       "      <td>58.301935</td>\n",
       "      <td>-69.765261</td>\n",
       "      <td>58.301940</td>\n",
       "      <td>-69.765260</td>\n",
       "      <td>48877.000000</td>\n",
       "      <td>3.851250e+07</td>\n",
       "      <td>3.908598e+07</td>\n",
       "      <td>3.908598e+07</td>\n",
       "      <td>...</td>\n",
       "      <td>0.240000</td>\n",
       "      <td>0.420000</td>\n",
       "      <td>0.550000</td>\n",
       "      <td>0.070000</td>\n",
       "      <td>0.030000</td>\n",
       "      <td>0.080000</td>\n",
       "      <td>0.030000</td>\n",
       "      <td>0.370000</td>\n",
       "      <td>0.240000</td>\n",
       "      <td>0.770000</td>\n",
       "    </tr>\n",
       "  </tbody>\n",
       "</table>\n",
       "<p>8 rows × 115 columns</p>\n",
       "</div>"
      ],
      "text/plain": [
       "            Border     Distance   State1_Lat  State1_Long   State2_Lat  \\\n",
       "count  2550.000000  2450.000000  2500.000000  2500.000000  2450.000000   \n",
       "mean      0.085490  1955.750731    39.450731   -93.465204    39.450730   \n",
       "std       0.279665  1428.092762     5.728589    18.483460     5.728612   \n",
       "min       0.000000    56.255615    21.308950  -157.826182    21.308950   \n",
       "25%       0.000000   958.964600    35.771000  -104.802000    35.771000   \n",
       "50%       0.000000  1605.739844    39.787096   -89.928686    39.787095   \n",
       "75%       0.000000  2581.232277    42.733500   -78.638000    42.733500   \n",
       "max       1.000000  8232.177857    58.301935   -69.765261    58.301940   \n",
       "\n",
       "       State2_Long  ACS_Migration        PopDif    State1_Pop    State2_Pop  \\\n",
       "count  2450.000000    2550.000000  2.550000e+03  2.550000e+03  2.550000e+03   \n",
       "mean    -93.465204    2071.576078  0.000000e+00  6.313616e+06  6.313616e+06   \n",
       "std      18.483536    4063.169711  1.022958e+07  7.162140e+06  7.162140e+06   \n",
       "min    -157.826200       3.000000 -3.851250e+07  5.734830e+05  5.734830e+05   \n",
       "25%    -104.802042     234.250000 -3.965876e+06  1.694182e+06  1.694182e+06   \n",
       "50%     -89.928686     666.000000  0.000000e+00  4.404279e+06  4.404279e+06   \n",
       "75%     -78.638000    1911.000000  3.965876e+06  7.318811e+06  7.318811e+06   \n",
       "max     -69.765260   48877.000000  3.851250e+07  3.908598e+07  3.908598e+07   \n",
       "\n",
       "       ...  S2BlackProt   S2Catholic     S2Mormon     S2Jewish     S2Muslim  \\\n",
       "count  ...  2550.000000  2550.000000  2550.000000  2550.000000  2550.000000   \n",
       "mean   ...     0.056863     0.190000     0.028431     0.012549     0.006078   \n",
       "std    ...     0.057320     0.086313     0.079410     0.014933     0.006884   \n",
       "min    ...     0.000000     0.040000     0.000000     0.000000     0.000000   \n",
       "25%    ...     0.020000     0.120000     0.010000     0.000000     0.000000   \n",
       "50%    ...     0.040000     0.180000     0.010000     0.010000     0.010000   \n",
       "75%    ...     0.080000     0.250000     0.020000     0.020000     0.010000   \n",
       "max    ...     0.240000     0.420000     0.550000     0.070000     0.030000   \n",
       "\n",
       "        S2Buddhist      S2Hindu      S2Nones  S2NothingParticular  \\\n",
       "count  2550.000000  2550.000000  2550.000000          2550.000000   \n",
       "mean      0.007255     0.003725     0.229020             0.161765   \n",
       "std       0.011731     0.006557     0.055468             0.035415   \n",
       "min       0.000000     0.000000     0.120000             0.090000   \n",
       "25%       0.000000     0.000000     0.190000             0.130000   \n",
       "50%       0.010000     0.000000     0.220000             0.160000   \n",
       "75%       0.010000     0.010000     0.270000             0.190000   \n",
       "max       0.080000     0.030000     0.370000             0.240000   \n",
       "\n",
       "       S2HighlyReligious  \n",
       "count        2550.000000  \n",
       "mean            0.546667  \n",
       "std             0.105343  \n",
       "min             0.330000  \n",
       "25%             0.480000  \n",
       "50%             0.540000  \n",
       "75%             0.630000  \n",
       "max             0.770000  \n",
       "\n",
       "[8 rows x 115 columns]"
      ]
     },
     "execution_count": 4,
     "metadata": {},
     "output_type": "execute_result"
    }
   ],
   "source": [
    "sn.describe()"
   ]
  },
  {
   "cell_type": "code",
   "execution_count": 13,
   "metadata": {},
   "outputs": [
    {
     "name": "stdout",
     "output_type": "stream",
     "text": [
      "<class 'pandas.core.frame.DataFrame'>\n",
      "RangeIndex: 2550 entries, 0 to 2549\n",
      "Columns: 124 entries, State1Abbr to S2HighlyReligious\n",
      "dtypes: category(4), float64(90), int64(25), object(5)\n",
      "memory usage: 2.3+ MB\n"
     ]
    }
   ],
   "source": [
    "sn.info()"
   ]
  },
  {
   "cell_type": "markdown",
   "metadata": {},
   "source": [
    "## 1.2 Cleaning and Transforming the Data"
   ]
  },
  {
   "cell_type": "code",
   "execution_count": 14,
   "metadata": {},
   "outputs": [
    {
     "data": {
      "text/plain": [
       "State1Abbr                      object\n",
       "State2Abbr                      object\n",
       "State1                          object\n",
       "State2                          object\n",
       "dyadid                          object\n",
       "S1region                      category\n",
       "S2region                      category\n",
       "S1division                    category\n",
       "S2division                    category\n",
       "Border                           int64\n",
       "Distance                       float64\n",
       "State1_Lat                     float64\n",
       "State1_Long                    float64\n",
       "State2_Lat                     float64\n",
       "State2_Long                    float64\n",
       "ACS_Migration                    int64\n",
       "PopDif                           int64\n",
       "State1_Pop                       int64\n",
       "State2_Pop                       int64\n",
       "IncomingFlights                  int64\n",
       "IRS_migration                  float64\n",
       "Income                           int64\n",
       "IRS_migration_2010             float64\n",
       "Income_2010                      int64\n",
       "Imports                        float64\n",
       "GSPDif                           int64\n",
       "S1GSP                            int64\n",
       "S2GSP                            int64\n",
       "DemDif                         float64\n",
       "S1AvgDem                       float64\n",
       "S2AvgDem                       float64\n",
       "S1SenDemProp                   float64\n",
       "S1HSDemProp                    float64\n",
       "S2SenDemProp                   float64\n",
       "S2HSDemProp                    float64\n",
       "IdeologyDif                    float64\n",
       "PIDDif                         float64\n",
       "S1Ideology                     float64\n",
       "S1PID                          float64\n",
       "S2Ideology                     float64\n",
       "S2PID                          float64\n",
       "policy_diffusion_tie           float64\n",
       "policy_diffusion_2015          float64\n",
       "policy_diffusion_2000.2015     float64\n",
       "ProfDif                        float64\n",
       "S1_professionalism             float64\n",
       "S2_professionalism             float64\n",
       "LibDif                         float64\n",
       "ELibDif                        float64\n",
       "SLibDif                        float64\n",
       "S1EconomicLiberalism           float64\n",
       "S1SocialLiberalism             float64\n",
       "S2EconomicLiberalism           float64\n",
       "S2SocialLiberalism             float64\n",
       "MassSocLibDif                  float64\n",
       "MassEconLibDif                 float64\n",
       "PolSocLibDif                   float64\n",
       "PolEconLibDif                  float64\n",
       "State1PolSocLib                float64\n",
       "State1PolEconLib               float64\n",
       "State1MassSocLib               float64\n",
       "State1MassEconLib              float64\n",
       "State2PolSocLib                float64\n",
       "State2PolEconLib               float64\n",
       "State2MassSocLib               float64\n",
       "State2MassEconLib              float64\n",
       "perceived_similarity           float64\n",
       "fb_friend_index                float64\n",
       "RaceDif                        float64\n",
       "LatinoDif                      float64\n",
       "WhiteDif                       float64\n",
       "BlackDif                       float64\n",
       "AsianDif                       float64\n",
       "NativeDif                      float64\n",
       "S1Latino                       float64\n",
       "S1White                        float64\n",
       "S1Black                        float64\n",
       "S1Asian                        float64\n",
       "S1Native                       float64\n",
       "S2Latino                       float64\n",
       "S2White                        float64\n",
       "S2Black                        float64\n",
       "S2Asian                        float64\n",
       "S2Native                       float64\n",
       "ReligDif                         int64\n",
       "ChristianDif                     int64\n",
       "EvangelicalDif                   int64\n",
       "MainlineDif                      int64\n",
       "BPDif                            int64\n",
       "CatholicDif                      int64\n",
       "MormonDif                        int64\n",
       "JewishDif                        int64\n",
       "MuslimDif                        int64\n",
       "BuddhistDif                      int64\n",
       "HinduDif                         int64\n",
       "NonesDif                         int64\n",
       "NPDif                            int64\n",
       "ReligiosityDif                   int64\n",
       "S1Christian                    float64\n",
       "S1Evangelical                  float64\n",
       "S1Mainline                     float64\n",
       "S1BlackProt                    float64\n",
       "S1Catholic                     float64\n",
       "S1Mormon                       float64\n",
       "S1Jewish                       float64\n",
       "S1Muslim                       float64\n",
       "S1Buddhist                     float64\n",
       "S1Hindu                        float64\n",
       "S1Nones                        float64\n",
       "S1NothingParticular            float64\n",
       "S1HighlyReligious              float64\n",
       "S2Christian                    float64\n",
       "S2Evangelical                  float64\n",
       "S2Mainline                     float64\n",
       "S2BlackProt                    float64\n",
       "S2Catholic                     float64\n",
       "S2Mormon                       float64\n",
       "S2Jewish                       float64\n",
       "S2Muslim                       float64\n",
       "S2Buddhist                     float64\n",
       "S2Hindu                        float64\n",
       "S2Nones                        float64\n",
       "S2NothingParticular            float64\n",
       "S2HighlyReligious              float64\n",
       "dtype: object"
      ]
     },
     "execution_count": 14,
     "metadata": {},
     "output_type": "execute_result"
    }
   ],
   "source": [
    "sn.dtypes"
   ]
  },
  {
   "cell_type": "markdown",
   "metadata": {},
   "source": [
    "**Converting some variables to categorical variables**"
   ]
  },
  {
   "cell_type": "code",
   "execution_count": 15,
   "metadata": {},
   "outputs": [],
   "source": [
    "sn['S1region']=sn['S1region'].astype('category')\n",
    "sn['S2region']=sn['S2region'].astype('category')"
   ]
  },
  {
   "cell_type": "code",
   "execution_count": 16,
   "metadata": {},
   "outputs": [],
   "source": [
    "sn['S1division']=sn['S1division'].astype('category')\n",
    "sn['S2division']=sn['S2division'].astype('category')"
   ]
  },
  {
   "cell_type": "code",
   "execution_count": 17,
   "metadata": {},
   "outputs": [
    {
     "data": {
      "text/plain": [
       "State1Abbr                      object\n",
       "State2Abbr                      object\n",
       "State1                          object\n",
       "State2                          object\n",
       "dyadid                          object\n",
       "S1region                      category\n",
       "S2region                      category\n",
       "S1division                    category\n",
       "S2division                    category\n",
       "Border                           int64\n",
       "Distance                       float64\n",
       "State1_Lat                     float64\n",
       "State1_Long                    float64\n",
       "State2_Lat                     float64\n",
       "State2_Long                    float64\n",
       "ACS_Migration                    int64\n",
       "PopDif                           int64\n",
       "State1_Pop                       int64\n",
       "State2_Pop                       int64\n",
       "IncomingFlights                  int64\n",
       "IRS_migration                  float64\n",
       "Income                           int64\n",
       "IRS_migration_2010             float64\n",
       "Income_2010                      int64\n",
       "Imports                        float64\n",
       "GSPDif                           int64\n",
       "S1GSP                            int64\n",
       "S2GSP                            int64\n",
       "DemDif                         float64\n",
       "S1AvgDem                       float64\n",
       "S2AvgDem                       float64\n",
       "S1SenDemProp                   float64\n",
       "S1HSDemProp                    float64\n",
       "S2SenDemProp                   float64\n",
       "S2HSDemProp                    float64\n",
       "IdeologyDif                    float64\n",
       "PIDDif                         float64\n",
       "S1Ideology                     float64\n",
       "S1PID                          float64\n",
       "S2Ideology                     float64\n",
       "S2PID                          float64\n",
       "policy_diffusion_tie           float64\n",
       "policy_diffusion_2015          float64\n",
       "policy_diffusion_2000.2015     float64\n",
       "ProfDif                        float64\n",
       "S1_professionalism             float64\n",
       "S2_professionalism             float64\n",
       "LibDif                         float64\n",
       "ELibDif                        float64\n",
       "SLibDif                        float64\n",
       "S1EconomicLiberalism           float64\n",
       "S1SocialLiberalism             float64\n",
       "S2EconomicLiberalism           float64\n",
       "S2SocialLiberalism             float64\n",
       "MassSocLibDif                  float64\n",
       "MassEconLibDif                 float64\n",
       "PolSocLibDif                   float64\n",
       "PolEconLibDif                  float64\n",
       "State1PolSocLib                float64\n",
       "State1PolEconLib               float64\n",
       "State1MassSocLib               float64\n",
       "State1MassEconLib              float64\n",
       "State2PolSocLib                float64\n",
       "State2PolEconLib               float64\n",
       "State2MassSocLib               float64\n",
       "State2MassEconLib              float64\n",
       "perceived_similarity           float64\n",
       "fb_friend_index                float64\n",
       "RaceDif                        float64\n",
       "LatinoDif                      float64\n",
       "WhiteDif                       float64\n",
       "BlackDif                       float64\n",
       "AsianDif                       float64\n",
       "NativeDif                      float64\n",
       "S1Latino                       float64\n",
       "S1White                        float64\n",
       "S1Black                        float64\n",
       "S1Asian                        float64\n",
       "S1Native                       float64\n",
       "S2Latino                       float64\n",
       "S2White                        float64\n",
       "S2Black                        float64\n",
       "S2Asian                        float64\n",
       "S2Native                       float64\n",
       "ReligDif                         int64\n",
       "ChristianDif                     int64\n",
       "EvangelicalDif                   int64\n",
       "MainlineDif                      int64\n",
       "BPDif                            int64\n",
       "CatholicDif                      int64\n",
       "MormonDif                        int64\n",
       "JewishDif                        int64\n",
       "MuslimDif                        int64\n",
       "BuddhistDif                      int64\n",
       "HinduDif                         int64\n",
       "NonesDif                         int64\n",
       "NPDif                            int64\n",
       "ReligiosityDif                   int64\n",
       "S1Christian                    float64\n",
       "S1Evangelical                  float64\n",
       "S1Mainline                     float64\n",
       "S1BlackProt                    float64\n",
       "S1Catholic                     float64\n",
       "S1Mormon                       float64\n",
       "S1Jewish                       float64\n",
       "S1Muslim                       float64\n",
       "S1Buddhist                     float64\n",
       "S1Hindu                        float64\n",
       "S1Nones                        float64\n",
       "S1NothingParticular            float64\n",
       "S1HighlyReligious              float64\n",
       "S2Christian                    float64\n",
       "S2Evangelical                  float64\n",
       "S2Mainline                     float64\n",
       "S2BlackProt                    float64\n",
       "S2Catholic                     float64\n",
       "S2Mormon                       float64\n",
       "S2Jewish                       float64\n",
       "S2Muslim                       float64\n",
       "S2Buddhist                     float64\n",
       "S2Hindu                        float64\n",
       "S2Nones                        float64\n",
       "S2NothingParticular            float64\n",
       "S2HighlyReligious              float64\n",
       "dtype: object"
      ]
     },
     "execution_count": 17,
     "metadata": {},
     "output_type": "execute_result"
    }
   ],
   "source": [
    "sn.dtypes"
   ]
  },
  {
   "cell_type": "markdown",
   "metadata": {},
   "source": [
    "### 1.2.1 Handling Missing Values"
   ]
  },
  {
   "cell_type": "code",
   "execution_count": 18,
   "metadata": {},
   "outputs": [
    {
     "data": {
      "text/plain": [
       "State1Abbr                      0\n",
       "State2Abbr                      0\n",
       "State1                          0\n",
       "State2                          0\n",
       "dyadid                          0\n",
       "S1region                       50\n",
       "S2region                       50\n",
       "S1division                     50\n",
       "S2division                     50\n",
       "Border                          0\n",
       "Distance                      100\n",
       "State1_Lat                     50\n",
       "State1_Long                    50\n",
       "State2_Lat                    100\n",
       "State2_Long                   100\n",
       "ACS_Migration                   0\n",
       "PopDif                          0\n",
       "State1_Pop                      0\n",
       "State2_Pop                      0\n",
       "IncomingFlights                 0\n",
       "IRS_migration                   0\n",
       "Income                          0\n",
       "IRS_migration_2010              0\n",
       "Income_2010                     0\n",
       "Imports                        10\n",
       "GSPDif                          0\n",
       "S1GSP                           0\n",
       "S2GSP                           0\n",
       "DemDif                        198\n",
       "S1AvgDem                      100\n",
       "S2AvgDem                      100\n",
       "S1SenDemProp                  100\n",
       "S1HSDemProp                   100\n",
       "S2SenDemProp                  100\n",
       "S2HSDemProp                   100\n",
       "IdeologyDif                     0\n",
       "PIDDif                          0\n",
       "S1Ideology                      0\n",
       "S1PID                           0\n",
       "S2Ideology                      0\n",
       "S2PID                           0\n",
       "policy_diffusion_tie          100\n",
       "policy_diffusion_2015         100\n",
       "policy_diffusion_2000.2015    100\n",
       "ProfDif                       100\n",
       "S1_professionalism             50\n",
       "S2_professionalism             50\n",
       "LibDif                        388\n",
       "ELibDif                       388\n",
       "SLibDif                       388\n",
       "S1EconomicLiberalism          200\n",
       "S1SocialLiberalism            200\n",
       "S2EconomicLiberalism          200\n",
       "S2SocialLiberalism            200\n",
       "MassSocLibDif                 100\n",
       "MassEconLibDif                100\n",
       "PolSocLibDif                  100\n",
       "PolEconLibDif                 100\n",
       "State1PolSocLib                50\n",
       "State1PolEconLib               50\n",
       "State1MassSocLib               50\n",
       "State1MassEconLib              50\n",
       "State2PolSocLib                50\n",
       "State2PolEconLib               50\n",
       "State2MassSocLib               50\n",
       "State2MassEconLib              50\n",
       "perceived_similarity          100\n",
       "fb_friend_index                 0\n",
       "RaceDif                         0\n",
       "LatinoDif                       0\n",
       "WhiteDif                        0\n",
       "BlackDif                        0\n",
       "AsianDif                        0\n",
       "NativeDif                       0\n",
       "S1Latino                        0\n",
       "S1White                         0\n",
       "S1Black                         0\n",
       "S1Asian                         0\n",
       "S1Native                        0\n",
       "S2Latino                        0\n",
       "S2White                         0\n",
       "S2Black                         0\n",
       "S2Asian                         0\n",
       "S2Native                        0\n",
       "ReligDif                        0\n",
       "ChristianDif                    0\n",
       "EvangelicalDif                  0\n",
       "MainlineDif                     0\n",
       "BPDif                           0\n",
       "CatholicDif                     0\n",
       "MormonDif                       0\n",
       "JewishDif                       0\n",
       "MuslimDif                       0\n",
       "BuddhistDif                     0\n",
       "HinduDif                        0\n",
       "NonesDif                        0\n",
       "NPDif                           0\n",
       "ReligiosityDif                  0\n",
       "S1Christian                     0\n",
       "S1Evangelical                   0\n",
       "S1Mainline                      0\n",
       "S1BlackProt                     0\n",
       "S1Catholic                      0\n",
       "S1Mormon                        0\n",
       "S1Jewish                        0\n",
       "S1Muslim                        0\n",
       "S1Buddhist                      0\n",
       "S1Hindu                         0\n",
       "S1Nones                         0\n",
       "S1NothingParticular             0\n",
       "S1HighlyReligious               0\n",
       "S2Christian                     0\n",
       "S2Evangelical                   0\n",
       "S2Mainline                      0\n",
       "S2BlackProt                     0\n",
       "S2Catholic                      0\n",
       "S2Mormon                        0\n",
       "S2Jewish                        0\n",
       "S2Muslim                        0\n",
       "S2Buddhist                      0\n",
       "S2Hindu                         0\n",
       "S2Nones                         0\n",
       "S2NothingParticular             0\n",
       "S2HighlyReligious               0\n",
       "dtype: int64"
      ]
     },
     "execution_count": 18,
     "metadata": {},
     "output_type": "execute_result"
    }
   ],
   "source": [
    "sn.isnull().sum()"
   ]
  },
  {
   "cell_type": "code",
   "execution_count": 19,
   "metadata": {},
   "outputs": [
    {
     "data": {
      "text/plain": [
       "State1Abbr                     0\n",
       "State2Abbr                     0\n",
       "State1                         0\n",
       "State2                         0\n",
       "dyadid                         0\n",
       "S1region                      50\n",
       "S2region                       0\n",
       "S1division                    50\n",
       "S2division                     0\n",
       "Border                         0\n",
       "Distance                      50\n",
       "State1_Lat                    50\n",
       "State1_Long                   50\n",
       "State2_Lat                    50\n",
       "State2_Long                   50\n",
       "ACS_Migration                  0\n",
       "PopDif                         0\n",
       "State1_Pop                     0\n",
       "State2_Pop                     0\n",
       "IncomingFlights                0\n",
       "IRS_migration                  0\n",
       "Income                         0\n",
       "IRS_migration_2010             0\n",
       "Income_2010                    0\n",
       "Imports                        0\n",
       "GSPDif                         0\n",
       "S1GSP                          0\n",
       "S2GSP                          0\n",
       "DemDif                        50\n",
       "S1AvgDem                      50\n",
       "S2AvgDem                       1\n",
       "S1SenDemProp                  50\n",
       "S1HSDemProp                   50\n",
       "S2SenDemProp                   1\n",
       "S2HSDemProp                    1\n",
       "IdeologyDif                    0\n",
       "PIDDif                         0\n",
       "S1Ideology                     0\n",
       "S1PID                          0\n",
       "S2Ideology                     0\n",
       "S2PID                          0\n",
       "policy_diffusion_tie          50\n",
       "policy_diffusion_2015         50\n",
       "policy_diffusion_2000.2015    50\n",
       "ProfDif                       50\n",
       "S1_professionalism            50\n",
       "S2_professionalism             0\n",
       "LibDif                        50\n",
       "ELibDif                       50\n",
       "SLibDif                       50\n",
       "S1EconomicLiberalism          50\n",
       "S1SocialLiberalism            50\n",
       "S2EconomicLiberalism           3\n",
       "S2SocialLiberalism             3\n",
       "MassSocLibDif                 50\n",
       "MassEconLibDif                50\n",
       "PolSocLibDif                  50\n",
       "PolEconLibDif                 50\n",
       "State1PolSocLib               50\n",
       "State1PolEconLib              50\n",
       "State1MassSocLib              50\n",
       "State1MassEconLib             50\n",
       "State2PolSocLib                0\n",
       "State2PolEconLib               0\n",
       "State2MassSocLib               0\n",
       "State2MassEconLib              0\n",
       "perceived_similarity          50\n",
       "fb_friend_index                0\n",
       "RaceDif                        0\n",
       "LatinoDif                      0\n",
       "WhiteDif                       0\n",
       "BlackDif                       0\n",
       "AsianDif                       0\n",
       "NativeDif                      0\n",
       "S1Latino                       0\n",
       "S1White                        0\n",
       "S1Black                        0\n",
       "S1Asian                        0\n",
       "S1Native                       0\n",
       "S2Latino                       0\n",
       "S2White                        0\n",
       "S2Black                        0\n",
       "S2Asian                        0\n",
       "S2Native                       0\n",
       "ReligDif                       0\n",
       "ChristianDif                   0\n",
       "EvangelicalDif                 0\n",
       "MainlineDif                    0\n",
       "BPDif                          0\n",
       "CatholicDif                    0\n",
       "MormonDif                      0\n",
       "JewishDif                      0\n",
       "MuslimDif                      0\n",
       "BuddhistDif                    0\n",
       "HinduDif                       0\n",
       "NonesDif                       0\n",
       "NPDif                          0\n",
       "ReligiosityDif                 0\n",
       "S1Christian                    0\n",
       "S1Evangelical                  0\n",
       "S1Mainline                     0\n",
       "S1BlackProt                    0\n",
       "S1Catholic                     0\n",
       "S1Mormon                       0\n",
       "S1Jewish                       0\n",
       "S1Muslim                       0\n",
       "S1Buddhist                     0\n",
       "S1Hindu                        0\n",
       "S1Nones                        0\n",
       "S1NothingParticular            0\n",
       "S1HighlyReligious              0\n",
       "S2Christian                    0\n",
       "S2Evangelical                  0\n",
       "S2Mainline                     0\n",
       "S2BlackProt                    0\n",
       "S2Catholic                     0\n",
       "S2Mormon                       0\n",
       "S2Jewish                       0\n",
       "S2Muslim                       0\n",
       "S2Buddhist                     0\n",
       "S2Hindu                        0\n",
       "S2Nones                        0\n",
       "S2NothingParticular            0\n",
       "S2HighlyReligious              0\n",
       "dtype: int64"
      ]
     },
     "execution_count": 19,
     "metadata": {},
     "output_type": "execute_result"
    }
   ],
   "source": [
    "sn[sn[\"State1\"]==\"District of Columbia\"].isnull().sum()"
   ]
  },
  {
   "cell_type": "markdown",
   "metadata": {},
   "source": [
    "\n",
    "- **The District of Columbia has missing values** in several variables because of the fact that it isn't a full state of the United States of America. Variables dealing with policymaking and composition of the Senate and House do not apply to it. Furthermore, DC doesn't have data on 2 of the dependant variables -perceived similarity and policy influences.\n",
    "\n",
    "Hence, removing it from our dataset. This reduces the number of observations to 2450.\n",
    "\n"
   ]
  },
  {
   "cell_type": "code",
   "execution_count": 20,
   "metadata": {},
   "outputs": [],
   "source": [
    "sn=sn.drop(sn.index[sn[\"State1\"]==\"District of Columbia\"])\n",
    "sn=sn.drop(sn.index[sn[\"State2\"]==\"District of Columbia\"])"
   ]
  },
  {
   "cell_type": "code",
   "execution_count": 21,
   "metadata": {
    "scrolled": false
   },
   "outputs": [
    {
     "data": {
      "text/plain": [
       "Nebraska    49\n",
       "Name: State1, dtype: int64"
      ]
     },
     "execution_count": 21,
     "metadata": {},
     "output_type": "execute_result"
    }
   ],
   "source": [
    "sn[sn[\"S1SenDemProp\"].isnull()][\"State1\"].value_counts()"
   ]
  },
  {
   "cell_type": "code",
   "execution_count": 22,
   "metadata": {},
   "outputs": [
    {
     "data": {
      "text/plain": [
       "Nebraska    49\n",
       "Name: State2, dtype: int64"
      ]
     },
     "execution_count": 22,
     "metadata": {},
     "output_type": "execute_result"
    }
   ],
   "source": [
    "sn[sn[\"S2SenDemProp\"].isnull()][\"State2\"].value_counts()"
   ]
  },
  {
   "cell_type": "code",
   "execution_count": 23,
   "metadata": {},
   "outputs": [
    {
     "data": {
      "text/plain": [
       "Nebraska    49\n",
       "Name: State1, dtype: int64"
      ]
     },
     "execution_count": 23,
     "metadata": {},
     "output_type": "execute_result"
    }
   ],
   "source": [
    "sn[sn[\"S1HSDemProp\"].isnull()][\"State1\"].value_counts()"
   ]
  },
  {
   "cell_type": "code",
   "execution_count": 24,
   "metadata": {},
   "outputs": [
    {
     "data": {
      "text/plain": [
       "Nebraska    49\n",
       "Name: State2, dtype: int64"
      ]
     },
     "execution_count": 24,
     "metadata": {},
     "output_type": "execute_result"
    }
   ],
   "source": [
    "sn[sn[\"S2HSDemProp\"].isnull()][\"State2\"].value_counts()"
   ]
  },
  {
   "cell_type": "code",
   "execution_count": 25,
   "metadata": {
    "scrolled": false
   },
   "outputs": [],
   "source": [
    "sn[\"S1SenDemProp\"]=sn[\"S1SenDemProp\"].replace([np.nan], 0.244898)"
   ]
  },
  {
   "cell_type": "code",
   "execution_count": 26,
   "metadata": {},
   "outputs": [],
   "source": [
    "sn[\"S2SenDemProp\"]=sn[\"S2SenDemProp\"].replace([np.nan], 0.244898)"
   ]
  },
  {
   "cell_type": "code",
   "execution_count": 27,
   "metadata": {},
   "outputs": [],
   "source": [
    "sn[\"S1HSDemProp\"]=sn[\"S1HSDemProp\"].replace([np.nan], 0.2448)"
   ]
  },
  {
   "cell_type": "code",
   "execution_count": 28,
   "metadata": {},
   "outputs": [],
   "source": [
    "sn[\"S2HSDemProp\"]=sn[\"S2HSDemProp\"].replace([np.nan], 0.2448)"
   ]
  },
  {
   "cell_type": "markdown",
   "metadata": {},
   "source": [
    "- **The missing data in State Senate and House Democrat Proportions is from Nebraska.** There is some ambivalence due to the unicameral charactristic of Nebraska's State Legislation. Since the state of Nebraska only has a unicameral parliament, its single house acts as both the House and Senate. This analysis includes the proportion of Democrats in Nebraska's single house in both House and Senate (indirectly implying that the single house acts as both house and senate when compared to other states) to compare with other states.\n",
    "\n",
    "The share of Democrats in Nebraska's single house was 24.48%.\n",
    "_source: https://ballotpedia.org/Nebraska_State_Senate_elections,_2016_"
   ]
  },
  {
   "cell_type": "markdown",
   "metadata": {},
   "source": [
    "**Transforming the aggregated representation variables to include this update**"
   ]
  },
  {
   "cell_type": "code",
   "execution_count": 29,
   "metadata": {},
   "outputs": [],
   "source": [
    "sn[\"S1AvgDem\"]=(sn[\"S1SenDemProp\"]+sn[\"S1HSDemProp\"])/2\n",
    "sn[\"S2AvgDem\"]=(sn[\"S2SenDemProp\"]+sn[\"S2HSDemProp\"])/2\n",
    "sn[\"DemDif\"]=sn[\"S1AvgDem\"]-sn[\"S2AvgDem\"]"
   ]
  },
  {
   "cell_type": "code",
   "execution_count": 30,
   "metadata": {},
   "outputs": [
    {
     "data": {
      "text/plain": [
       "Series([], Name: State1, dtype: int64)"
      ]
     },
     "execution_count": 30,
     "metadata": {},
     "output_type": "execute_result"
    }
   ],
   "source": [
    "sn[sn[\"State1PolSocLib\"].isnull()][\"State1\"].value_counts()"
   ]
  },
  {
   "cell_type": "code",
   "execution_count": 31,
   "metadata": {},
   "outputs": [
    {
     "data": {
      "text/html": [
       "<div>\n",
       "<style scoped>\n",
       "    .dataframe tbody tr th:only-of-type {\n",
       "        vertical-align: middle;\n",
       "    }\n",
       "\n",
       "    .dataframe tbody tr th {\n",
       "        vertical-align: top;\n",
       "    }\n",
       "\n",
       "    .dataframe thead th {\n",
       "        text-align: right;\n",
       "    }\n",
       "</style>\n",
       "<table border=\"1\" class=\"dataframe\">\n",
       "  <thead>\n",
       "    <tr style=\"text-align: right;\">\n",
       "      <th></th>\n",
       "      <th>S1EconomicLiberalism</th>\n",
       "      <th>S1SocialLiberalism</th>\n",
       "      <th>State1PolSocLib</th>\n",
       "      <th>State1PolEconLib</th>\n",
       "      <th>State1MassSocLib</th>\n",
       "      <th>State1MassEconLib</th>\n",
       "    </tr>\n",
       "  </thead>\n",
       "  <tbody>\n",
       "    <tr>\n",
       "      <th>S1EconomicLiberalism</th>\n",
       "      <td>1.000000</td>\n",
       "      <td>0.524754</td>\n",
       "      <td>0.539506</td>\n",
       "      <td>0.743863</td>\n",
       "      <td>0.544327</td>\n",
       "      <td>0.766882</td>\n",
       "    </tr>\n",
       "    <tr>\n",
       "      <th>S1SocialLiberalism</th>\n",
       "      <td>0.524754</td>\n",
       "      <td>1.000000</td>\n",
       "      <td>0.813092</td>\n",
       "      <td>0.721870</td>\n",
       "      <td>0.937802</td>\n",
       "      <td>0.650152</td>\n",
       "    </tr>\n",
       "    <tr>\n",
       "      <th>State1PolSocLib</th>\n",
       "      <td>0.539506</td>\n",
       "      <td>0.813092</td>\n",
       "      <td>1.000000</td>\n",
       "      <td>0.855289</td>\n",
       "      <td>0.829498</td>\n",
       "      <td>0.705518</td>\n",
       "    </tr>\n",
       "    <tr>\n",
       "      <th>State1PolEconLib</th>\n",
       "      <td>0.743863</td>\n",
       "      <td>0.721870</td>\n",
       "      <td>0.855289</td>\n",
       "      <td>1.000000</td>\n",
       "      <td>0.770443</td>\n",
       "      <td>0.779512</td>\n",
       "    </tr>\n",
       "    <tr>\n",
       "      <th>State1MassSocLib</th>\n",
       "      <td>0.544327</td>\n",
       "      <td>0.937802</td>\n",
       "      <td>0.829498</td>\n",
       "      <td>0.770443</td>\n",
       "      <td>1.000000</td>\n",
       "      <td>0.718845</td>\n",
       "    </tr>\n",
       "    <tr>\n",
       "      <th>State1MassEconLib</th>\n",
       "      <td>0.766882</td>\n",
       "      <td>0.650152</td>\n",
       "      <td>0.705518</td>\n",
       "      <td>0.779512</td>\n",
       "      <td>0.718845</td>\n",
       "      <td>1.000000</td>\n",
       "    </tr>\n",
       "  </tbody>\n",
       "</table>\n",
       "</div>"
      ],
      "text/plain": [
       "                      S1EconomicLiberalism  S1SocialLiberalism  \\\n",
       "S1EconomicLiberalism              1.000000            0.524754   \n",
       "S1SocialLiberalism                0.524754            1.000000   \n",
       "State1PolSocLib                   0.539506            0.813092   \n",
       "State1PolEconLib                  0.743863            0.721870   \n",
       "State1MassSocLib                  0.544327            0.937802   \n",
       "State1MassEconLib                 0.766882            0.650152   \n",
       "\n",
       "                      State1PolSocLib  State1PolEconLib  State1MassSocLib  \\\n",
       "S1EconomicLiberalism         0.539506          0.743863          0.544327   \n",
       "S1SocialLiberalism           0.813092          0.721870          0.937802   \n",
       "State1PolSocLib              1.000000          0.855289          0.829498   \n",
       "State1PolEconLib             0.855289          1.000000          0.770443   \n",
       "State1MassSocLib             0.829498          0.770443          1.000000   \n",
       "State1MassEconLib            0.705518          0.779512          0.718845   \n",
       "\n",
       "                      State1MassEconLib  \n",
       "S1EconomicLiberalism           0.766882  \n",
       "S1SocialLiberalism             0.650152  \n",
       "State1PolSocLib                0.705518  \n",
       "State1PolEconLib               0.779512  \n",
       "State1MassSocLib               0.718845  \n",
       "State1MassEconLib              1.000000  "
      ]
     },
     "execution_count": 31,
     "metadata": {},
     "output_type": "execute_result"
    }
   ],
   "source": [
    "sn[\"S1EconomicLiberalism S1SocialLiberalism State1PolSocLib State1PolEconLib State1MassSocLib State1MassEconLib\".split()].corr()"
   ]
  },
  {
   "cell_type": "code",
   "execution_count": 32,
   "metadata": {},
   "outputs": [
    {
     "data": {
      "text/plain": [
       "<matplotlib.axes._subplots.AxesSubplot at 0x7fbf2c1bc0d0>"
      ]
     },
     "execution_count": 32,
     "metadata": {},
     "output_type": "execute_result"
    },
    {
     "data": {
      "image/png": "[encoded data removed]",
      "text/plain": [
       "<Figure size 432x288 with 2 Axes>"
      ]
     },
     "metadata": {
      "needs_background": "light"
     },
     "output_type": "display_data"
    }
   ],
   "source": [
    "sns.heatmap(sn[\"S1EconomicLiberalism S1SocialLiberalism State1PolSocLib State1PolEconLib State1MassSocLib State1MassEconLib\".split()].corr())"
   ]
  },
  {
   "cell_type": "code",
   "execution_count": 33,
   "metadata": {},
   "outputs": [
    {
     "data": {
      "text/html": [
       "<div>\n",
       "<style scoped>\n",
       "    .dataframe tbody tr th:only-of-type {\n",
       "        vertical-align: middle;\n",
       "    }\n",
       "\n",
       "    .dataframe tbody tr th {\n",
       "        vertical-align: top;\n",
       "    }\n",
       "\n",
       "    .dataframe thead th {\n",
       "        text-align: right;\n",
       "    }\n",
       "</style>\n",
       "<table border=\"1\" class=\"dataframe\">\n",
       "  <thead>\n",
       "    <tr style=\"text-align: right;\">\n",
       "      <th></th>\n",
       "      <th>S2EconomicLiberalism</th>\n",
       "      <th>S2SocialLiberalism</th>\n",
       "      <th>State2PolSocLib</th>\n",
       "      <th>State2PolEconLib</th>\n",
       "      <th>State2MassSocLib</th>\n",
       "      <th>State2MassEconLib</th>\n",
       "    </tr>\n",
       "  </thead>\n",
       "  <tbody>\n",
       "    <tr>\n",
       "      <th>S2EconomicLiberalism</th>\n",
       "      <td>1.000000</td>\n",
       "      <td>0.524754</td>\n",
       "      <td>0.376421</td>\n",
       "      <td>0.411133</td>\n",
       "      <td>0.400708</td>\n",
       "      <td>0.407224</td>\n",
       "    </tr>\n",
       "    <tr>\n",
       "      <th>S2SocialLiberalism</th>\n",
       "      <td>0.524754</td>\n",
       "      <td>1.000000</td>\n",
       "      <td>0.470277</td>\n",
       "      <td>0.316468</td>\n",
       "      <td>0.448039</td>\n",
       "      <td>0.321976</td>\n",
       "    </tr>\n",
       "    <tr>\n",
       "      <th>State2PolSocLib</th>\n",
       "      <td>0.376421</td>\n",
       "      <td>0.470277</td>\n",
       "      <td>1.000000</td>\n",
       "      <td>0.853185</td>\n",
       "      <td>0.832803</td>\n",
       "      <td>0.702613</td>\n",
       "    </tr>\n",
       "    <tr>\n",
       "      <th>State2PolEconLib</th>\n",
       "      <td>0.411133</td>\n",
       "      <td>0.316468</td>\n",
       "      <td>0.853185</td>\n",
       "      <td>1.000000</td>\n",
       "      <td>0.774691</td>\n",
       "      <td>0.777513</td>\n",
       "    </tr>\n",
       "    <tr>\n",
       "      <th>State2MassSocLib</th>\n",
       "      <td>0.400708</td>\n",
       "      <td>0.448039</td>\n",
       "      <td>0.832803</td>\n",
       "      <td>0.774691</td>\n",
       "      <td>1.000000</td>\n",
       "      <td>0.720087</td>\n",
       "    </tr>\n",
       "    <tr>\n",
       "      <th>State2MassEconLib</th>\n",
       "      <td>0.407224</td>\n",
       "      <td>0.321976</td>\n",
       "      <td>0.702613</td>\n",
       "      <td>0.777513</td>\n",
       "      <td>0.720087</td>\n",
       "      <td>1.000000</td>\n",
       "    </tr>\n",
       "  </tbody>\n",
       "</table>\n",
       "</div>"
      ],
      "text/plain": [
       "                      S2EconomicLiberalism  S2SocialLiberalism  \\\n",
       "S2EconomicLiberalism              1.000000            0.524754   \n",
       "S2SocialLiberalism                0.524754            1.000000   \n",
       "State2PolSocLib                   0.376421            0.470277   \n",
       "State2PolEconLib                  0.411133            0.316468   \n",
       "State2MassSocLib                  0.400708            0.448039   \n",
       "State2MassEconLib                 0.407224            0.321976   \n",
       "\n",
       "                      State2PolSocLib  State2PolEconLib  State2MassSocLib  \\\n",
       "S2EconomicLiberalism         0.376421          0.411133          0.400708   \n",
       "S2SocialLiberalism           0.470277          0.316468          0.448039   \n",
       "State2PolSocLib              1.000000          0.853185          0.832803   \n",
       "State2PolEconLib             0.853185          1.000000          0.774691   \n",
       "State2MassSocLib             0.832803          0.774691          1.000000   \n",
       "State2MassEconLib            0.702613          0.777513          0.720087   \n",
       "\n",
       "                      State2MassEconLib  \n",
       "S2EconomicLiberalism           0.407224  \n",
       "S2SocialLiberalism             0.321976  \n",
       "State2PolSocLib                0.702613  \n",
       "State2PolEconLib               0.777513  \n",
       "State2MassSocLib               0.720087  \n",
       "State2MassEconLib              1.000000  "
      ]
     },
     "execution_count": 33,
     "metadata": {},
     "output_type": "execute_result"
    }
   ],
   "source": [
    "sn[\"S2EconomicLiberalism S2SocialLiberalism State2PolSocLib State2PolEconLib State2MassSocLib State2MassEconLib\".split()].corr()"
   ]
  },
  {
   "cell_type": "code",
   "execution_count": 34,
   "metadata": {},
   "outputs": [
    {
     "data": {
      "text/plain": [
       "<matplotlib.axes._subplots.AxesSubplot at 0x7fbf2c40db80>"
      ]
     },
     "execution_count": 34,
     "metadata": {},
     "output_type": "execute_result"
    },
    {
     "data": {
      "image/png": "[encoded data removed]",
      "text/plain": [
       "<Figure size 432x288 with 2 Axes>"
      ]
     },
     "metadata": {
      "needs_background": "light"
     },
     "output_type": "display_data"
    }
   ],
   "source": [
    "sns.heatmap(sn[\"S2EconomicLiberalism S2SocialLiberalism State2PolSocLib State2PolEconLib State2MassSocLib State2MassEconLib\".split()].corr())"
   ]
  },
  {
   "cell_type": "markdown",
   "metadata": {},
   "source": [
    "There is sufficient correlation between the aggregated and disaggregated liberalism score indices with a disproportionately large number of missing values in the aggregated indices. This is sufficient cause to drop the aggregated liberalism indices and fix missing value issues in the disaggregated liberalism scores."
   ]
  },
  {
   "cell_type": "code",
   "execution_count": null,
   "metadata": {},
   "outputs": [],
   "source": [
    "delpsl=sn[sn[\"State1\"]==\"Delaware\"][\"State1PolSocLib\"].head(1).item()\n",
    "delpel=sn[sn[\"State1\"]==\"Delaware\"][\"State1PolEconLib\"].head(1).item()\n",
    "delmsl=sn[sn[\"State1\"]==\"Delaware\"][\"State1MassSocLib\"].head(1).item()\n",
    "delmel=sn[sn[\"State1\"]==\"Delaware\"][\"State1MassEconLib\"].head(1).item()"
   ]
  },
  {
   "cell_type": "markdown",
   "metadata": {},
   "source": [
    "Adding Delaware data that is available in dyads where it is the first state to those where it is the 2nd state."
   ]
  },
  {
   "cell_type": "code",
   "execution_count": null,
   "metadata": {},
   "outputs": [],
   "source": [
    "sn[\"State2PolSocLib\"]=sn[\"State2PolSocLib\"].replace(np.nan,delpsl)\n",
    "sn[\"State2PolEconLib\"]=sn[\"State2PolEconLib\"].replace(np.nan,delpel)\n",
    "sn[\"State2MassSocLib\"]=sn[\"State2MassSocLib\"].replace(np.nan,delmsl)\n",
    "sn[\"State2MassEconLib\"]=sn[\"State2MassEconLib\"].replace(np.nan,delmel)"
   ]
  },
  {
   "cell_type": "code",
   "execution_count": null,
   "metadata": {},
   "outputs": [],
   "source": [
    "sn[\"PolSocLibDif\"]=sn[\"State1PolSocLib\"]-sn[\"State2PolSocLib\"]\n",
    "sn[\"PolEconLibDif\"]=sn[\"State1PolEconLib\"]-sn[\"State2PolEconLib\"]\n",
    "sn[\"MassSocLibDif\"]=sn[\"State1MassSocLib\"]-sn[\"State2MassSocLib\"]\n",
    "sn[\"MassEconLibDif\"]=sn[\"State1MassEconLib\"]-sn[\"State2MassEconLib\"]"
   ]
  },
  {
   "cell_type": "markdown",
   "metadata": {},
   "source": [
    " - Dropping variables that are irrelevant to current analysis"
   ]
  },
  {
   "cell_type": "code",
   "execution_count": null,
   "metadata": {},
   "outputs": [],
   "source": [
    "to_drop = \"State1Abbr State2Abbr State1 State2 LibDif ELibDif SLibDif S1EconomicLiberalism S1SocialLiberalism S2EconomicLiberalism S2SocialLiberalism\".split()"
   ]
  },
  {
   "cell_type": "code",
   "execution_count": null,
   "metadata": {},
   "outputs": [],
   "source": [
    "sn=sn.drop(to_drop, axis=1)"
   ]
  },
  {
   "cell_type": "code",
   "execution_count": null,
   "metadata": {},
   "outputs": [],
   "source": [
    "sn.isnull().sum()"
   ]
  },
  {
   "cell_type": "code",
   "execution_count": null,
   "metadata": {},
   "outputs": [],
   "source": []
  },
  {
   "cell_type": "code",
   "execution_count": null,
   "metadata": {},
   "outputs": [],
   "source": [
    "sn[\"SameRegion\"]= sn[\"S1region\"]==sn[\"S2region\"]\n",
    "sn[\"SameDivision\"]= sn[\"S1division\"]==sn[\"S2division\"]"
   ]
  },
  {
   "cell_type": "code",
   "execution_count": null,
   "metadata": {},
   "outputs": [],
   "source": [
    "varlist=\"dyadid S1region S2region SameRegion S1division S2division SameDivision Border Distance PopDif ACS_Migration State1_Pop State2_Pop IncomingFlights IRS_migration IRS_migration_2010 Income Income_2010 Imports GSPDif S1GSP S2GSP DemDif S1AvgDem S2AvgDem S1SenDemProp S1HSDemProp S2SenDemProp S2HSDemProp IdeologyDif PIDDif S1Ideology S1PID S2Ideology S2PID policy_diffusion_tie policy_diffusion_2015 policy_diffusion_2000.2015 MassSocLibDif MassEconLibDif PolSocLibDif PolEconLibDif State1PolSocLib State1PolEconLib State1MassSocLib State1MassEconLib State2PolSocLib State2PolEconLib State2MassSocLib State2MassEconLib perceived_similarity fb_friend_index RaceDif LatinoDif WhiteDif BlackDif AsianDif NativeDif S1Latino S1White S1Black S1Asian S1Native S2Latino S2White S2Black S2Asian S2Native ReligDif ChristianDif JewishDif MuslimDif BuddhistDif HinduDif NonesDif NPDif S1Christian S1Jewish S1Muslim S1Buddhist S1Hindu S1Nones S1NothingParticular S1HighlyReligious S2Christian S2Jewish S2Muslim S2Buddhist S2Hindu S2Nones S2NothingParticular S2HighlyReligious\".split()"
   ]
  },
  {
   "cell_type": "code",
   "execution_count": null,
   "metadata": {},
   "outputs": [],
   "source": [
    "econvar= \"Border Distance policy_diffusion_tie policy_diffusion_2015 policy_diffusion_2000.2015 perceived_similarity fb_friend_index PopDif ACS_Migration State1_Pop State2_Pop IncomingFlights IRS_migration IRS_migration_2010 Income Income_2010 Imports GSPDif S1GSP S2GSP\".split()"
   ]
  },
  {
   "cell_type": "code",
   "execution_count": null,
   "metadata": {},
   "outputs": [],
   "source": [
    "snecon=sn.loc[:,econvar]"
   ]
  },
  {
   "cell_type": "code",
   "execution_count": null,
   "metadata": {},
   "outputs": [],
   "source": [
    "snecon.info()"
   ]
  },
  {
   "cell_type": "code",
   "execution_count": null,
   "metadata": {},
   "outputs": [],
   "source": []
  },
  {
   "cell_type": "markdown",
   "metadata": {},
   "source": [
    "## Data Analysis and Visualization"
   ]
  },
  {
   "cell_type": "code",
   "execution_count": null,
   "metadata": {},
   "outputs": [],
   "source": [
    "sns.set_context(\"notebook\")\n",
    "color = sns.color_palette(\"twilight\")"
   ]
  },
  {
   "cell_type": "markdown",
   "metadata": {},
   "source": [
    "Analysing relevance of location variables for interstate relations"
   ]
  },
  {
   "cell_type": "code",
   "execution_count": null,
   "metadata": {},
   "outputs": [],
   "source": [
    "f1, ax = plt.subplots(2,3, figsize=(20,15))\n",
    "f1.suptitle(\"Border Sharing effects\")\n",
    "sns.barplot(x='Border', y='Border',data=sn,estimator=lambda x: len(x) / len(sn) * 100, ax=ax[0,0])\n",
    "ax[0,0].set(ylabel=\"Percent\", xlabel = \"Border (Y=1,N=0)\", title = 'Percentage that shares borders')\n",
    "sns.boxplot(x='Border', y='fb_friend_index',data=sn, ax=ax[0,1])\n",
    "ax[0,1].set(ylabel=\"FB Friends\", xlabel = \"Border (Y=1,N=0)\", title = 'Likelihood of having facebook friends in other state')\n",
    "sns.boxplot(x='Border', y='ACS_Migration',data=sn, ax=ax[0,2])\n",
    "ax[0,2].set(ylabel=\"ACS Migration\", xlabel = \"Border (Y=1,N=0)\", title = 'State to state migration')\n",
    "sns.boxplot(x='Border', y='IRS_migration',data=sn, ax=ax[1,0])\n",
    "ax[1,0].set(ylabel=\"IRS Migration\", xlabel = \"Border (Y=1,N=0)\", title = 'Tax ememptions due to relocation')\n",
    "sns.boxplot(x='Border', y='policy_diffusion_tie',data=sn, ax=ax[1,1])\n",
    "ax[1,1].set(ylabel=\"Policy Diffusion Ties\", xlabel = \"Border (Y=1,N=0)\", title = 'Use of state as a source of policy making')\n",
    "sns.boxplot(x='Border', y='perceived_similarity',data=sn, ax=ax[1,2])\n",
    "ax[1,2].set(ylabel=\"Percieved Similarity\", xlabel = \"Border (Y=1,N=0)\", title = \"People's perception of similarity\")\n",
    "f1.savefig('/Users/josephthomas/Documents/Projects/State Networks/Data Cleaning/Out/f11Border.png')"
   ]
  },
  {
   "cell_type": "code",
   "execution_count": null,
   "metadata": {},
   "outputs": [],
   "source": [
    "f12, ax = plt.subplots(2,3, figsize=(20,18))\n",
    "f12.suptitle(\"Region Sharing effects\")\n",
    "sns.barplot(x='SameRegion', y='SameRegion',data=sn,estimator=lambda x: len(x) / len(sn) * 100, ax=ax[0,0])\n",
    "ax[0,0].set(ylabel=\"Percent\", xlabel = \"Same Region (Y=1,N=0)\", title = 'Percentage that shares Same Region')\n",
    "sns.boxplot(x='SameRegion', y='fb_friend_index',data=sn, ax=ax[0,1])\n",
    "ax[0,1].set(ylabel=\"FB Friends\", xlabel = \"Same Region (Y=1,N=0)\", title = 'Likelihood of having facebook friends in other state')\n",
    "sns.boxplot(x='SameRegion', y='ACS_Migration',data=sn, ax=ax[0,2])\n",
    "ax[0,2].set(ylabel=\"ACS Migration\", xlabel = \"Same Region (Y=1,N=0)\", title = 'State to state migration')\n",
    "sns.boxplot(x='SameRegion', y='IRS_migration',data=sn, ax=ax[1,0])\n",
    "ax[1,0].set(ylabel=\"IRS Migration\", xlabel = \"Same Region (Y=1,N=0)\", title = 'Tax ememptions due to relocation')\n",
    "sns.boxplot(x='SameRegion', y='policy_diffusion_tie',data=sn, ax=ax[1,1])\n",
    "ax[1,1].set(ylabel=\"Policy Diffusion Ties\", xlabel = \"Same Region (Y=1,N=0)\", title = 'Use of state as a source of policy making')\n",
    "sns.boxplot(x='SameRegion', y='perceived_similarity',data=sn, ax=ax[1,2])\n",
    "ax[1,2].set(ylabel=\"Percieved Similarity\", xlabel = \"Same Region (Y=1,N=0)\", title = \"People's perception of similarity\")\n",
    "f12.savefig('/Users/josephthomas/Documents/Projects/State Networks/Data Cleaning/Out/f12Region.png')"
   ]
  },
  {
   "cell_type": "code",
   "execution_count": null,
   "metadata": {},
   "outputs": [],
   "source": [
    "f12, ax = plt.subplots(2,3, figsize=(30,18))\n",
    "f12.suptitle(\"Region Sharing effects\")\n",
    "sns.barplot(x='SameRegion', y='SameRegion',data=sn,estimator=lambda x: len(x) / len(sn) * 100, ax=ax[0,0])\n",
    "ax[0,0].set(ylabel=\"Percent\", xlabel = \"Same Region (Y=1,N=0)\", title = 'Percentage that shares Same Region')\n",
    "sns.violinplot(x='SameRegion', y='fb_friend_index',data=sn, ax=ax[0,1])\n",
    "ax[0,1].set(ylabel=\"FB Friends\", xlabel = \"Same Region (Y=1,N=0)\", title = 'Likelihood of having facebook friends in other state')\n",
    "sns.violinplot(x='SameRegion', y='ACS_Migration',data=sn, ax=ax[0,2])\n",
    "ax[0,2].set(ylabel=\"ACS Migration\", xlabel = \"Same Region (Y=1,N=0)\", title = 'State to state migration')\n",
    "sns.violinplot(x='SameRegion', y='IRS_migration',data=sn, ax=ax[1,0])\n",
    "ax[1,0].set(ylabel=\"IRS Migration\", xlabel = \"Same Region (Y=1,N=0)\", title = 'Tax ememptions due to relocation')\n",
    "sns.violinplot(x='SameRegion', y='policy_diffusion_tie',data=sn, ax=ax[1,1])\n",
    "ax[1,1].set(ylabel=\"Policy Diffusion Ties\", xlabel = \"Same Region (Y=1,N=0)\", title = 'Use of state as a source of policy making')\n",
    "sns.violinplot(x='SameRegion', y='perceived_similarity',data=sn, ax=ax[1,2])\n",
    "ax[1,2].set(ylabel=\"Percieved Similarity\", xlabel = \"Same Region (Y=1,N=0)\", title = \"People's perception of similarity\")\n",
    "f12.savefig('/Users/josephthomas/Documents/Projects/State Networks/Data Cleaning/Out/f12RegionV.png')"
   ]
  },
  {
   "cell_type": "code",
   "execution_count": null,
   "metadata": {},
   "outputs": [],
   "source": [
    "f13=plt.figure()\n",
    "ax=f13.add_subplot(1,1,1)\n",
    "sns.countplot(x='S1region',data=sn, ax=ax)"
   ]
  },
  {
   "cell_type": "code",
   "execution_count": null,
   "metadata": {},
   "outputs": [],
   "source": [
    "sn.loc[sn[\"fb_friend_index\"]>100][[\"dyadid\", \"Border\",\"fb_friend_index\"]].sort_values(\"fb_friend_index\", ascending=False).head(20)"
   ]
  },
  {
   "cell_type": "code",
   "execution_count": null,
   "metadata": {},
   "outputs": [],
   "source": [
    "sn.loc[sn[\"Border\"]==0][[\"dyadid\", \"Border\",\"fb_friend_index\", \"Distance\"]].sort_values(\"fb_friend_index\", ascending=False).head(20)"
   ]
  },
  {
   "cell_type": "markdown",
   "metadata": {},
   "source": [
    "Looking at FB Friends Across shared borders out of the states having friends in other states, New England states take the top 8/10 spots having friends in other NE states. The other two spots are occupied by Maryland and Delaware and vice versa.  And 18 of top 20 states share their border.\n",
    "\n",
    "MA and CA, NV and HI, HI and CA have fb friends in each other, not sharing borders and distance greater than 4000 miles."
   ]
  },
  {
   "cell_type": "code",
   "execution_count": null,
   "metadata": {},
   "outputs": [],
   "source": []
  },
  {
   "cell_type": "code",
   "execution_count": null,
   "metadata": {},
   "outputs": [],
   "source": []
  },
  {
   "cell_type": "code",
   "execution_count": null,
   "metadata": {},
   "outputs": [],
   "source": [
    "f14, ax = plt.subplots(2,3, figsize=(30,18))\n",
    "f14.suptitle(\"Division Sharing effects\")\n",
    "sns.barplot(x='SameDivision', y='SameDivision',data=sn,estimator=lambda x: len(x) / len(sn) * 100, ax=ax[0,0])\n",
    "ax[0,0].set(ylabel=\"Percent\", xlabel = \"Same Division (Y=1,N=0)\", title = 'Percentage that shares Same Division')\n",
    "sns.violinplot(x='SameDivision', y='fb_friend_index',data=sn, ax=ax[0,1])\n",
    "ax[0,1].set(ylabel=\"FB Friends\", xlabel = \"Same Division (Y=1,N=0)\", title = 'Likelihood of having facebook friends in other state')\n",
    "sns.violinplot(x='SameDivision', y='ACS_Migration',data=sn, ax=ax[0,2])\n",
    "ax[0,2].set(ylabel=\"ACS Migration\", xlabel = \"SameDivision (Y=1,N=0)\", title = 'State to state migration')\n",
    "sns.violinplot(x='SameDivision', y='IRS_migration',data=sn, ax=ax[1,0])\n",
    "ax[1,0].set(ylabel=\"IRS Migration\", xlabel = \"Same Region (Y=1,N=0)\", title = 'Tax ememptions due to relocation')\n",
    "sns.violinplot(x='SameDivision', y='policy_diffusion_tie',data=sn, ax=ax[1,1])\n",
    "ax[1,1].set(ylabel=\"Policy Diffusion Ties\", xlabel = \"SameDivision (Y=1,N=0)\", title = 'Use of state as a source of policy making')\n",
    "sns.violinplot(x='SameDivision', y='perceived_similarity',data=sn, ax=ax[1,2])\n",
    "ax[1,2].set(ylabel=\"Percieved Similarity\", xlabel = \"SameDivision (Y=1,N=0)\", title = \"People's perception of similarity\")\n",
    "f14.savefig('/Users/josephthomas/Documents/Projects/State Networks/Data Cleaning/Out/f14DivisionV.png')"
   ]
  },
  {
   "cell_type": "markdown",
   "metadata": {},
   "source": [
    "Location Variables done"
   ]
  },
  {
   "cell_type": "markdown",
   "metadata": {},
   "source": [
    "Economy Varibles"
   ]
  },
  {
   "cell_type": "code",
   "execution_count": null,
   "metadata": {},
   "outputs": [],
   "source": [
    "f21=sns.pairplot(snecon[\"Distance policy_diffusion_tie policy_diffusion_2015 policy_diffusion_2000.2015 perceived_similarity fb_friend_index ACS_Migration State1_Pop State2_Pop IncomingFlights IRS_migration Income Imports GSPDif\".split()])"
   ]
  },
  {
   "cell_type": "code",
   "execution_count": null,
   "metadata": {},
   "outputs": [],
   "source": [
    "f21.savefig('/Users/josephthomas/Documents/Projects/State Networks/Data Cleaning/Out/f21econpairplot.png')"
   ]
  },
  {
   "cell_type": "markdown",
   "metadata": {},
   "source": [
    "Selecting out variables that show some kind of relationships"
   ]
  },
  {
   "cell_type": "code",
   "execution_count": null,
   "metadata": {},
   "outputs": [],
   "source": [
    "plt.figure(figsize=(10,10))\n",
    "f2_2=sns.pairplot(snecon[\"policy_diffusion_tie policy_diffusion_2000.2015 perceived_similarity fb_friend_index ACS_Migration PopDif IRS_migration Income Imports GSPDif\".split()])\n",
    "f2_2.savefig('/Users/josephthomas/Documents/Projects/State Networks/Data Cleaning/Out/f22econpairplot.png')"
   ]
  },
  {
   "cell_type": "markdown",
   "metadata": {},
   "source": [
    "Mention observed relationships here - What warrant further investigation"
   ]
  },
  {
   "cell_type": "markdown",
   "metadata": {},
   "source": [
    "`## Income relations"
   ]
  },
  {
   "cell_type": "code",
   "execution_count": null,
   "metadata": {},
   "outputs": [],
   "source": [
    "f23, axes = plt.subplots(3, 2, figsize=(15,18))\n",
    "f23.suptitle(\"Income Relations between states\")\n",
    "sns.regplot(x='Income',y='Imports', data=sn, ax=axes[0,0])\n",
    "axes[0,0].set(ylabel=\"Imports from state to state\", xlabel = \"Income moved from State to state\", title = 'Movement of Gross Income and Goods')\n",
    "sns.regplot(x='Income',y='ACS_Migration', data=sn, ax=axes[0,1])\n",
    "axes[0,1].set(ylabel=\"Percent\", xlabel = \"Income moved from State to state\", title = 'Movement of Income and People')\n",
    "sns.regplot(x='Income',y='fb_friend_index', data=sn, ax=axes[1,0])\n",
    "axes[1,0].set(ylabel=\"FB Friends\", xlabel = \"Income moved from State to state\", title = 'Income and likelihood of having FB friends')\n",
    "sns.regplot(x='Income',y='IRS_migration', data=sn, ax=axes[2,1])\n",
    "axes[2,1].set(ylabel=\"Movt of Tax\", xlabel = \"Income moved from State to state\", title = 'Movement of Gross Income and Personal Taxes')\n",
    "sns.regplot(x='Income',y='policy_diffusion_tie', data=sn, ax=axes[2,0])\n",
    "axes[2,0].set(ylabel=\"Policy references\", xlabel = \"Income moved from State to state\", title = 'Policy References and Income transfers')\n",
    "sns.regplot(x='Income',y='perceived_similarity', data=sn, ax=axes[1,1])\n",
    "axes[1,1].set(ylabel=\"Percieved similarity\", xlabel = \"Income moved from State to state\", title = 'Percieved similarity and Income transfers')\n",
    "f23.savefig('/Users/josephthomas/Documents/Projects/State Networks/Data Cleaning/Out/f23Incomelmplot.png')"
   ]
  },
  {
   "cell_type": "code",
   "execution_count": null,
   "metadata": {},
   "outputs": [],
   "source": []
  },
  {
   "cell_type": "code",
   "execution_count": null,
   "metadata": {},
   "outputs": [],
   "source": [
    "c=float(input(\"Quantile of Observations to consider (0,1) \") or \"0.99\")"
   ]
  },
  {
   "cell_type": "markdown",
   "metadata": {},
   "source": [
    "f24, axes = plt.subplots(3, 2, figsize=(15,18))\n",
    "f24.suptitle(\"Income Relations between states excluding large outliers (Only {} percent of data considered)\".format(c*100))\n",
    "sns.regplot(x='Income',y='Imports', data=sn[sn[\"Income\"]<=sn[\"Income\"].quantile(c)], ax=axes[0,0])\n",
    "axes[0,0].set(ylabel=\"Imports from state to state\", xlabel = \"Income moved from State to state\", title = 'Movement of Gross Income and Goods')\n",
    "sns.regplot(x='Income',y='ACS_Migration', data=sn[sn[\"Income\"]<=sn[\"Income\"].quantile(c)], ax=axes[0,1])\n",
    "axes[0,1].set(ylabel=\"Percent\", xlabel = \"Income moved from State to state\", title = 'Movement of Income and People')\n",
    "sns.regplot(x='Income',y='fb_friend_index', data=sn[sn[\"Income\"]<=sn[\"Income\"].quantile(c)], ax=axes[1,0])\n",
    "axes[1,0].set(ylabel=\"FB Friends\", xlabel = \"Income moved from State to state\", title = 'Income and likelihood of having FB friends')\n",
    "sns.regplot(x='Income',y='IRS_migration', data=sn[sn[\"Income\"]<=sn[\"Income\"].quantile(c)], ax=axes[2,1])\n",
    "axes[2,1].set(ylabel=\"Movt of Tax\", xlabel = \"Income moved from State to state\", title = 'Movement of Gross Income and Personal Taxes')\n",
    "sns.regplot(x='Income',y='policy_diffusion_tie', data=sn[sn[\"Income\"]<=sn[\"Income\"].quantile(c)], ax=axes[2,0])\n",
    "axes[2,0].set(ylabel=\"Policy references\", xlabel = \"Income moved from State to state\", title = 'Policy References and Income transfers')\n",
    "sns.regplot(x='Income',y='perceived_similarity', data=sn[sn[\"Income\"]<=sn[\"Income\"].quantile(c)], ax=axes[1,1])\n",
    "axes[1,1].set(ylabel=\"Percieved similarity\", xlabel = \"Income moved from State to state\", title = 'Percieved similarity and Income transfers')\n",
    "f24.savefig('/Users/josephthomas/Documents/Projects/State Networks/Data Cleaning/Out/f24IncomeNOutlmplot.png')"
   ]
  },
  {
   "cell_type": "code",
   "execution_count": null,
   "metadata": {},
   "outputs": [],
   "source": [
    "f25, axes = plt.subplots(2,3, figsize=(20,10))\n",
    "f25.suptitle(\"Migration and Inter-State Relations\")\n",
    "sns.regplot(x=\"IRS_migration\", y=\"fb_friend_index\", data=sn, ax=axes[0,0])\n",
    "sns.regplot(x=\"IRS_migration\", y=\"perceived_similarity\", data=sn, ax=axes[0,1])\n",
    "sns.regplot(x=\"IRS_migration\", y=\"policy_diffusion_tie\", data=sn, ax=axes[0,2])\n",
    "sns.regplot(x=\"ACS_Migration\", y=\"fb_friend_index\", data=sn, ax=axes[1,0])\n",
    "sns.regplot(x=\"ACS_Migration\", y=\"perceived_similarity\", data=sn, ax=axes[1,1])\n",
    "sns.regplot(x=\"ACS_Migration\", y=\"policy_diffusion_tie\", data=sn, ax=axes[1,2])"
   ]
  },
  {
   "cell_type": "code",
   "execution_count": null,
   "metadata": {},
   "outputs": [],
   "source": []
  },
  {
   "cell_type": "code",
   "execution_count": null,
   "metadata": {},
   "outputs": [],
   "source": [
    "f31, axes = plt.subplots(3,3, figsize=(20,20))\n",
    "f31.suptitle(\"Politics and Inter-State Relations\")\n",
    "sns.regplot(x=\"DemDif\", y=\"fb_friend_index\", data=sn, ax=axes[0,0], order=2)\n",
    "sns.regplot(x=\"DemDif\", y=\"perceived_similarity\", data=sn, ax=axes[0,1], order=2)\n",
    "sns.regplot(x=\"DemDif\", y=\"policy_diffusion_tie\", data=sn, ax=axes[0,2], order=2)\n",
    "sns.regplot(x=\"PIDDif\", y=\"fb_friend_index\", data=sn, ax=axes[1,0], order=2)\n",
    "sns.regplot(x=\"PIDDif\", y=\"perceived_similarity\", data=sn, ax=axes[1,1], order=2)\n",
    "sns.regplot(x=\"PIDDif\", y=\"policy_diffusion_tie\", data=sn, ax=axes[1,2], order=2)\n",
    "sns.regplot(x=\"IdeologyDif\", y=\"fb_friend_index\", data=sn, ax=axes[2,0], order=2)\n",
    "sns.regplot(x=\"IdeologyDif\", y=\"perceived_similarity\", data=sn, ax=axes[2,1], order=2)\n",
    "sns.regplot(x=\"IdeologyDif\", y=\"policy_diffusion_tie\", data=sn, ax=axes[2,2], order=2)"
   ]
  },
  {
   "cell_type": "code",
   "execution_count": null,
   "metadata": {},
   "outputs": [],
   "source": [
    "f32, axes = plt.subplots(4,3, figsize=(20,20))\n",
    "f32.suptitle(\"Liberal Thought and Inter-State Relations\")\n",
    "sns.regplot(x=\"MassSocLibDif\", y=\"fb_friend_index\", data=sn, ax=axes[0,0], order=2)\n",
    "sns.regplot(x=\"MassSocLibDif\", y=\"perceived_similarity\", data=sn, ax=axes[0,1], order=2)\n",
    "sns.regplot(x=\"MassSocLibDif\", y=\"policy_diffusion_tie\", data=sn, ax=axes[0,2], order=2)\n",
    "sns.regplot(x=\"MassEconLibDif\", y=\"fb_friend_index\", data=sn, ax=axes[1,0], order=2)\n",
    "sns.regplot(x=\"MassEconLibDif\", y=\"perceived_similarity\", data=sn, ax=axes[1,1], order=2)\n",
    "sns.regplot(x=\"MassEconLibDif\", y=\"policy_diffusion_tie\", data=sn, ax=axes[1,2], order=2)\n",
    "sns.regplot(x=\"PolSocLibDif\", y=\"fb_friend_index\", data=sn, ax=axes[2,0], order=2)\n",
    "sns.regplot(x=\"PolSocLibDif\", y=\"perceived_similarity\", data=sn, ax=axes[2,1], order=2)\n",
    "sns.regplot(x=\"PolSocLibDif\", y=\"policy_diffusion_tie\", data=sn, ax=axes[2,2], order=2)\n",
    "sns.regplot(x=\"PolEconLibDif\", y=\"fb_friend_index\", data=sn, ax=axes[3,0], order=2)\n",
    "sns.regplot(x=\"PolEconLibDif\", y=\"perceived_similarity\", data=sn, ax=axes[3,1], order=2)\n",
    "sns.regplot(x=\"PolEconLibDif\", y=\"policy_diffusion_tie\", data=sn, ax=axes[3,2], order=2)"
   ]
  },
  {
   "cell_type": "code",
   "execution_count": null,
   "metadata": {},
   "outputs": [],
   "source": [
    "f41, axes = plt.subplots(3,4, figsize=(20,20))\n",
    "f41.suptitle(\"Racial Composition and Inter-State Relations\")\n",
    "sns.regplot(x=\"NativeDif\", y=\"fb_friend_index\", data=sn, ax=axes[0,0], order=2)\n",
    "sns.regplot(x=\"NativeDif\", y=\"perceived_similarity\", data=sn, ax=axes[1,0], order=2)\n",
    "sns.regplot(x=\"NativeDif\", y=\"policy_diffusion_tie\", data=sn, ax=axes[2,0], order=2)\n",
    "sns.regplot(x=\"LatinoDif\", y=\"fb_friend_index\", data=sn, ax=axes[0,1], order=2)\n",
    "sns.regplot(x=\"LatinoDif\", y=\"perceived_similarity\", data=sn, ax=axes[1,1], order=2)\n",
    "sns.regplot(x=\"LatinoDif\", y=\"policy_diffusion_tie\", data=sn, ax=axes[2,1], order=2)\n",
    "sns.regplot(x=\"WhiteDif\", y=\"fb_friend_index\", data=sn, ax=axes[0,2], order=2)\n",
    "sns.regplot(x=\"WhiteDif\", y=\"perceived_similarity\", data=sn, ax=axes[1,2], order=2)\n",
    "sns.regplot(x=\"WhiteDif\", y=\"policy_diffusion_tie\", data=sn, ax=axes[2,2], order=2)\n",
    "sns.regplot(x=\"BlackDif\", y=\"fb_friend_index\", data=sn, ax=axes[0,3], order=2)\n",
    "sns.regplot(x=\"BlackDif\", y=\"perceived_similarity\", data=sn, ax=axes[1,3], order=2)\n",
    "sns.regplot(x=\"BlackDif\", y=\"policy_diffusion_tie\", data=sn, ax=axes[2,3], order=2)"
   ]
  },
  {
   "cell_type": "code",
   "execution_count": null,
   "metadata": {},
   "outputs": [],
   "source": []
  },
  {
   "cell_type": "code",
   "execution_count": null,
   "metadata": {},
   "outputs": [],
   "source": [
    "f42, axes = plt.subplots(3,4, figsize=(20,20))\n",
    "f42.suptitle(\"Religious Composition and Inter-State Relations\")\n",
    "sns.regplot(x=\"ChristianDif\", y=\"fb_friend_index\", data=sn, ax=axes[0,0], order=2)\n",
    "sns.regplot(x=\"ChristianDif\", y=\"perceived_similarity\", data=sn, ax=axes[1,0], order=2)\n",
    "sns.regplot(x=\"ChristianDif\", y=\"policy_diffusion_tie\", data=sn, ax=axes[2,0], order=2)\n",
    "sns.regplot(x=\"EvangelicalDif\", y=\"fb_friend_index\", data=sn, ax=axes[0,1], order=2)\n",
    "sns.regplot(x=\"EvangelicalDif\", y=\"perceived_similarity\", data=sn, ax=axes[1,1], order=2)\n",
    "sns.regplot(x=\"EvangelicalDif\", y=\"policy_diffusion_tie\", data=sn, ax=axes[2,1], order=2)\n",
    "sns.regplot(x=\"MuslimDif\", y=\"fb_friend_index\", data=sn, ax=axes[0,2], order=2)\n",
    "sns.regplot(x=\"MuslimDif\", y=\"perceived_similarity\", data=sn, ax=axes[1,2], order=2)\n",
    "sns.regplot(x=\"MuslimDif\", y=\"policy_diffusion_tie\", data=sn, ax=axes[2,2], order=2)\n",
    "sns.regplot(x=\"NonesDif\", y=\"fb_friend_index\", data=sn, ax=axes[0,3], order=2)\n",
    "sns.regplot(x=\"NonesDif\", y=\"perceived_similarity\", data=sn, ax=axes[1,3], order=2)\n",
    "sns.regplot(x=\"NonesDif\", y=\"policy_diffusion_tie\", data=sn, ax=axes[2,3], order=2)"
   ]
  },
  {
   "cell_type": "code",
   "execution_count": null,
   "metadata": {},
   "outputs": [],
   "source": []
  },
  {
   "cell_type": "code",
   "execution_count": null,
   "metadata": {},
   "outputs": [],
   "source": [
    "sns.clustermap(sn[sn[\"Income\"]<=sn[\"Income\"].quantile(.95)][\"SameRegion SameDivision Border Distance ACS_Migration IncomingFlights IRS_migration Income GSPDif DemDif IdeologyDif PIDDif policy_diffusion_tie MassSocLibDif MassEconLibDif PolSocLibDif PolEconLibDif perceived_similarity fb_friend_index RaceDif LatinoDif WhiteDif BlackDif AsianDif NativeDif ReligDif ChristianDif JewishDif MuslimDif BuddhistDif HinduDif NonesDif NPDif\".split()])"
   ]
  },
  {
   "cell_type": "code",
   "execution_count": null,
   "metadata": {},
   "outputs": [],
   "source": []
  },
  {
   "cell_type": "code",
   "execution_count": null,
   "metadata": {},
   "outputs": [],
   "source": []
  },
  {
   "cell_type": "markdown",
   "metadata": {},
   "source": [
    "Last Line Update 3"
   ]
  },
  {
   "cell_type": "code",
   "execution_count": null,
   "metadata": {},
   "outputs": [],
   "source": []
  }
 ],
 "metadata": {
  "kernelspec": {
   "display_name": "Python 3",
   "language": "python",
   "name": "python3"
  },
  "language_info": {
   "codemirror_mode": {
    "name": "ipython",
    "version": 3
   },
   "file_extension": ".py",
   "mimetype": "text/x-python",
   "name": "python",
   "nbconvert_exporter": "python",
   "pygments_lexer": "ipython3",
   "version": "3.8.3"
  }
 },
 "nbformat": 4,
 "nbformat_minor": 4
}
