{
 "cells": [
  {
   "cell_type": "markdown",
   "metadata": {},
   "source": [
    "# Assessing the characteristics of interstate relationships in the USA\n",
    "\n",
    "The State Networks dataset is a compilation of many state-to-state relational variables, including measures of shared borders, travel and trade between states, and demographic characteristics of state populations. The 2,550 units in the dataset are dyadic state-pairs (e.g., Alabama–Alaska, Alabama–Arizona, Alabama–Arkansas, and so on, for each state plus the District of Columbia). The data were collected from multiple sources and incorporate measures of similarity drawn from data in the Correlates of State Policy Project."
   ]
  },
  {
   "cell_type": "code",
   "execution_count": null,
   "metadata": {},
   "outputs": [],
   "source": [
    "import numpy as np\n",
    "import pandas as pd\n",
    "import numpy as np\n",
    "import seaborn as sns\n",
    "import matplotlib.pyplot as plt\n",
    "%matplotlib inline"
   ]
  },
  {
   "cell_type": "markdown",
   "metadata": {},
   "source": [
    "Opening Database"
   ]
  },
  {
   "cell_type": "code",
   "execution_count": null,
   "metadata": {},
   "outputs": [],
   "source": [
    "sn=pd.read_csv('/Users/josephthomas/Documents/Projects/State Networks/Data Cleaning/Raw Data/statenetworks.csv')"
   ]
  },
  {
   "cell_type": "code",
   "execution_count": null,
   "metadata": {},
   "outputs": [],
   "source": [
    "pd.options.display.max_rows =300"
   ]
  },
  {
   "cell_type": "code",
   "execution_count": null,
   "metadata": {},
   "outputs": [],
   "source": [
    "sn.columns"
   ]
  },
  {
   "cell_type": "markdown",
   "metadata": {},
   "source": [
    "**Snapshot of data and datatypes**"
   ]
  },
  {
   "cell_type": "code",
   "execution_count": null,
   "metadata": {},
   "outputs": [],
   "source": [
    "sn.describe()"
   ]
  },
  {
   "cell_type": "code",
   "execution_count": null,
   "metadata": {},
   "outputs": [],
   "source": [
    "sn.info()"
   ]
  },
  {
   "cell_type": "markdown",
   "metadata": {},
   "source": [
    "## Cleaning the Data\n",
    "Income, IRS Migration and IRS Migration 2020 are not numeral in the original database. Furthermore, Income has dollar signs and commas in its value."
   ]
  },
  {
   "cell_type": "code",
   "execution_count": null,
   "metadata": {},
   "outputs": [],
   "source": [
    "sn.dtypes"
   ]
  },
  {
   "cell_type": "markdown",
   "metadata": {},
   "source": [
    "**Converting some variables to categorical variables**"
   ]
  },
  {
   "cell_type": "code",
   "execution_count": null,
   "metadata": {},
   "outputs": [],
   "source": [
    "sn['S1region']=sn['S1region'].astype('category')\n",
    "sn['S2region']=sn['S2region'].astype('category')"
   ]
  },
  {
   "cell_type": "code",
   "execution_count": null,
   "metadata": {},
   "outputs": [],
   "source": [
    "sn['S1division']=sn['S1division'].astype('category')\n",
    "sn['S2division']=sn['S2division'].astype('category')"
   ]
  },
  {
   "cell_type": "code",
   "execution_count": null,
   "metadata": {},
   "outputs": [],
   "source": [
    "sn.dtypes"
   ]
  },
  {
   "cell_type": "markdown",
   "metadata": {},
   "source": [
    "**Dealing with missing variables**"
   ]
  },
  {
   "cell_type": "code",
   "execution_count": null,
   "metadata": {},
   "outputs": [],
   "source": [
    "sn.isnull().sum()"
   ]
  },
  {
   "cell_type": "markdown",
   "metadata": {},
   "source": [
    "DC has a lot of missing values"
   ]
  },
  {
   "cell_type": "code",
   "execution_count": null,
   "metadata": {},
   "outputs": [],
   "source": [
    "sn[sn[\"State1\"]==\"District of Columbia\"].isnull().sum()"
   ]
  },
  {
   "cell_type": "code",
   "execution_count": null,
   "metadata": {},
   "outputs": [],
   "source": [
    "sn=sn.drop(sn.index[sn[\"State1\"]==\"District of Columbia\"])\n",
    "sn=sn.drop(sn.index[sn[\"State2\"]==\"District of Columbia\"])"
   ]
  },
  {
   "cell_type": "code",
   "execution_count": null,
   "metadata": {
    "scrolled": false
   },
   "outputs": [],
   "source": [
    "sn[sn[\"S1SenDemProp\"].isnull()][\"State1\"].value_counts()"
   ]
  },
  {
   "cell_type": "code",
   "execution_count": null,
   "metadata": {},
   "outputs": [],
   "source": [
    "sn[sn[\"S2SenDemProp\"].isnull()][\"State2\"].value_counts()"
   ]
  },
  {
   "cell_type": "markdown",
   "metadata": {},
   "source": [
    "The missing values in State Senate Democrat Proportions is due to the unicameral charactristic of Nebraska State Legislation.\n",
    "\n",
    "_source: https://ballotpedia.org/Nebraska_State_Senate_elections,_2016_"
   ]
  },
  {
   "cell_type": "code",
   "execution_count": null,
   "metadata": {
    "scrolled": false
   },
   "outputs": [],
   "source": [
    "sn[\"S1SenDemProp\"]=sn[\"S1SenDemProp\"].replace([np.nan], 0.244898)"
   ]
  },
  {
   "cell_type": "code",
   "execution_count": null,
   "metadata": {},
   "outputs": [],
   "source": [
    "sn[\"S2SenDemProp\"]=sn[\"S2SenDemProp\"].replace([np.nan], 0.244898)"
   ]
  },
  {
   "cell_type": "markdown",
   "metadata": {},
   "source": [
    "House Proportions"
   ]
  },
  {
   "cell_type": "code",
   "execution_count": null,
   "metadata": {},
   "outputs": [],
   "source": [
    "sn[sn[\"S1HSDemProp\"].isnull()][\"State1\"].value_counts()"
   ]
  },
  {
   "cell_type": "code",
   "execution_count": null,
   "metadata": {},
   "outputs": [],
   "source": [
    "sn[sn[\"S2HSDemProp\"].isnull()][\"State2\"].value_counts()"
   ]
  },
  {
   "cell_type": "markdown",
   "metadata": {},
   "source": [
    "Since the state of Nebraska only has a unicameral parliament, its single house acts as both the House and Senate. Hence, the proportion of democrats remain the same for both houses."
   ]
  },
  {
   "cell_type": "code",
   "execution_count": null,
   "metadata": {},
   "outputs": [],
   "source": [
    "sn[\"S1HSDemProp\"]=sn[\"S1HSDemProp\"].replace([np.nan], 0.2448)"
   ]
  },
  {
   "cell_type": "code",
   "execution_count": null,
   "metadata": {},
   "outputs": [],
   "source": [
    "sn[\"S2HSDemProp\"]=sn[\"S2HSDemProp\"].replace([np.nan], 0.2448)"
   ]
  },
  {
   "cell_type": "markdown",
   "metadata": {},
   "source": [
    "Transforming the remaining political variables including this filled information"
   ]
  },
  {
   "cell_type": "code",
   "execution_count": null,
   "metadata": {},
   "outputs": [],
   "source": [
    "sn[\"S1AvgDem\"]=(sn[\"S1SenDemProp\"]+sn[\"S1HSDemProp\"])/2\n",
    "sn[\"S2AvgDem\"]=(sn[\"S2SenDemProp\"]+sn[\"S2HSDemProp\"])/2\n",
    "sn[\"DemDif\"]=sn[\"S1AvgDem\"]-sn[\"S2AvgDem\"]"
   ]
  },
  {
   "cell_type": "code",
   "execution_count": null,
   "metadata": {},
   "outputs": [],
   "source": [
    "sn[sn[\"State1PolSocLib\"].isnull()][\"State1\"].value_counts()"
   ]
  },
  {
   "cell_type": "code",
   "execution_count": null,
   "metadata": {},
   "outputs": [],
   "source": [
    "sn[\"S1EconomicLiberalism S1SocialLiberalism State1PolSocLib State1PolEconLib State1MassSocLib State1MassEconLib\".split()].corr()"
   ]
  },
  {
   "cell_type": "code",
   "execution_count": null,
   "metadata": {},
   "outputs": [],
   "source": [
    "sns.heatmap(sn[\"S1EconomicLiberalism S1SocialLiberalism State1PolSocLib State1PolEconLib State1MassSocLib State1MassEconLib\".split()].corr())"
   ]
  },
  {
   "cell_type": "code",
   "execution_count": null,
   "metadata": {},
   "outputs": [],
   "source": [
    "sn[\"S2EconomicLiberalism S2SocialLiberalism State2PolSocLib State2PolEconLib State2MassSocLib State2MassEconLib\".split()].corr()"
   ]
  },
  {
   "cell_type": "code",
   "execution_count": null,
   "metadata": {},
   "outputs": [],
   "source": [
    "sns.heatmap(sn[\"S2EconomicLiberalism S2SocialLiberalism State2PolSocLib State2PolEconLib State2MassSocLib State2MassEconLib\".split()].corr())"
   ]
  },
  {
   "cell_type": "markdown",
   "metadata": {},
   "source": [
    "There is strong correlation between the aggregated and disaggregated liberalism score indices with a disproportionately large number of missing values in the aggregated indices. This is sufficient cause to drop the aggregated liberalism indices and fix missing value issues in the disaggregated liberalism scores."
   ]
  },
  {
   "cell_type": "code",
   "execution_count": null,
   "metadata": {},
   "outputs": [],
   "source": [
    "delpsl=sn[sn[\"State1\"]==\"Delaware\"][\"State1PolSocLib\"].head(1).item()\n",
    "delpel=sn[sn[\"State1\"]==\"Delaware\"][\"State1PolEconLib\"].head(1).item()\n",
    "delmsl=sn[sn[\"State1\"]==\"Delaware\"][\"State1MassSocLib\"].head(1).item()\n",
    "delmel=sn[sn[\"State1\"]==\"Delaware\"][\"State1MassEconLib\"].head(1).item()"
   ]
  },
  {
   "cell_type": "code",
   "execution_count": null,
   "metadata": {},
   "outputs": [],
   "source": [
    "sn[\"State2PolSocLib\"]=sn[\"State2PolSocLib\"].replace(np.nan,delpsl)\n",
    "sn[\"State2PolEconLib\"]=sn[\"State2PolEconLib\"].replace(np.nan,delpel)\n",
    "sn[\"State2MassSocLib\"]=sn[\"State2MassSocLib\"].replace(np.nan,delmsl)\n",
    "sn[\"State2MassEconLib\"]=sn[\"State2MassEconLib\"].replace(np.nan,delmel)"
   ]
  },
  {
   "cell_type": "code",
   "execution_count": null,
   "metadata": {},
   "outputs": [],
   "source": [
    "sn[\"PolSocLibDif\"]=sn[\"State1PolSocLib\"]-sn[\"State2PolSocLib\"]\n",
    "sn[\"PolEconLibDif\"]=sn[\"State1PolEconLib\"]-sn[\"State2PolEconLib\"]\n",
    "sn[\"MassSocLibDif\"]=sn[\"State1MassSocLib\"]-sn[\"State2MassSocLib\"]\n",
    "sn[\"MassEconLibDif\"]=sn[\"State1MassEconLib\"]-sn[\"State2MassEconLib\"]"
   ]
  },
  {
   "cell_type": "code",
   "execution_count": null,
   "metadata": {},
   "outputs": [],
   "source": []
  },
  {
   "cell_type": "code",
   "execution_count": null,
   "metadata": {},
   "outputs": [],
   "source": [
    "to_drop = \"State1Abbr State2Abbr State1 State2 LibDif ELibDif SLibDif S1EconomicLiberalism S1SocialLiberalism S2EconomicLiberalism S2SocialLiberalism\".split()"
   ]
  },
  {
   "cell_type": "code",
   "execution_count": null,
   "metadata": {},
   "outputs": [],
   "source": [
    "sn=sn.drop(to_drop, axis=1)"
   ]
  },
  {
   "cell_type": "code",
   "execution_count": null,
   "metadata": {},
   "outputs": [],
   "source": [
    "sn.isnull().sum()"
   ]
  },
  {
   "cell_type": "code",
   "execution_count": null,
   "metadata": {},
   "outputs": [],
   "source": []
  },
  {
   "cell_type": "code",
   "execution_count": null,
   "metadata": {},
   "outputs": [],
   "source": [
    "sn[\"SameRegion\"]= sn[\"S1region\"]==sn[\"S2region\"]\n",
    "sn[\"SameDivision\"]= sn[\"S1division\"]==sn[\"S2division\"]"
   ]
  },
  {
   "cell_type": "code",
   "execution_count": null,
   "metadata": {},
   "outputs": [],
   "source": []
  },
  {
   "cell_type": "code",
   "execution_count": null,
   "metadata": {},
   "outputs": [],
   "source": [
    "varlist=\"dyadid S1region S2region S1division S2division Border Distance PopDif ACS_Migration State1_Pop State2_Pop IncomingFlights IRS_migration IRS_migration_2010 Income Income_2010 Imports GSPDif S1GSP S2GSP DemDif S1AvgDem S2AvgDem S1SenDemProp S1HSDemProp S2SenDemProp S2HSDemProp IdeologyDif PIDDif S1Ideology S1PID S2Ideology S2PID policy_diffusion_tie policy_diffusion_2015 policy_diffusion_2000.2015 MassSocLibDif MassEconLibDif PolSocLibDif PolEconLibDif State1PolSocLib State1PolEconLib State1MassSocLib State1MassEconLib State2PolSocLib State2PolEconLib State2MassSocLib State2MassEconLib perceived_similarity fb_friend_index RaceDif LatinoDif WhiteDif BlackDif AsianDif NativeDif S1Latino S1White S1Black S1Asian S1Native S2Latino S2White S2Black S2Asian S2Native ReligDif ChristianDif JewishDif MuslimDif BuddhistDif HinduDif NonesDif NPDif S1Christian S1Jewish S1Muslim S1Buddhist S1Hindu S1Nones S1NothingParticular S1HighlyReligious S2Christian S2Jewish S2Muslim S2Buddhist S2Hindu S2Nones S2NothingParticular S2HighlyReligious\".split()"
   ]
  },
  {
   "cell_type": "code",
   "execution_count": null,
   "metadata": {},
   "outputs": [],
   "source": [
    "econvar= \"Border Distance policy_diffusion_tie policy_diffusion_2015 policy_diffusion_2000.2015 perceived_similarity fb_friend_index PopDif ACS_Migration State1_Pop State2_Pop IncomingFlights IRS_migration IRS_migration_2010 Income Income_2010 Imports GSPDif S1GSP S2GSP\".split()"
   ]
  },
  {
   "cell_type": "code",
   "execution_count": null,
   "metadata": {},
   "outputs": [],
   "source": [
    "snecon=sn.loc[:,econvar]"
   ]
  },
  {
   "cell_type": "code",
   "execution_count": null,
   "metadata": {},
   "outputs": [],
   "source": [
    "snecon.info()"
   ]
  },
  {
   "cell_type": "code",
   "execution_count": null,
   "metadata": {},
   "outputs": [],
   "source": []
  },
  {
   "cell_type": "markdown",
   "metadata": {},
   "source": [
    "## Data Analysis and Visualization"
   ]
  },
  {
   "cell_type": "code",
   "execution_count": null,
   "metadata": {},
   "outputs": [],
   "source": [
    "sns.set_context(\"notebook\")\n",
    "color = sns.color_palette(\"twilight\")"
   ]
  },
  {
   "cell_type": "code",
   "execution_count": null,
   "metadata": {},
   "outputs": [],
   "source": [
    "f1 = plt.figure(figsize=(3, 4))\n",
    "f1=sns.barplot(x='Border', y='Border',data=sn,estimator=lambda x: len(x) / len(sn) * 100,  palette=color)\n",
    "f1.set(ylabel=\"Percentage\")\n",
    "f1.set(title=\"Do they share a border?\")\n",
    "f1.set(xlim=(0, 1.5))\n",
    "f1.set(ylim=(0, 100))\n",
    "sns.despine(offset=10);"
   ]
  },
  {
   "cell_type": "code",
   "execution_count": null,
   "metadata": {},
   "outputs": [],
   "source": [
    "f1=f1.get_figure()\n",
    "f1.savefig('/Users/josephthomas/Documents/Projects/State Networks/Data Cleaning/Out/f1BorderBar.png')"
   ]
  },
  {
   "cell_type": "markdown",
   "metadata": {},
   "source": [
    "**Inference:** Less that 10 percent of interstate relations are based on sharing a border"
   ]
  },
  {
   "cell_type": "code",
   "execution_count": null,
   "metadata": {},
   "outputs": [],
   "source": [
    "f2=sns.pairplot(snecon[\"Distance policy_diffusion_tie policy_diffusion_2015 policy_diffusion_2000.2015 perceived_similarity fb_friend_index ACS_Migration State1_Pop State2_Pop IncomingFlights IRS_migration Income Imports GSPD\".split()])"
   ]
  },
  {
   "cell_type": "code",
   "execution_count": null,
   "metadata": {},
   "outputs": [],
   "source": [
    "f2.savefig('/Users/josephthomas/Documents/Projects/State Networks/Data Cleaning/Out/f22econpairplot.png')"
   ]
  },
  {
   "cell_type": "markdown",
   "metadata": {},
   "source": [
    "Selecting out variables that show some kind of relationships"
   ]
  },
  {
   "cell_type": "code",
   "execution_count": null,
   "metadata": {},
   "outputs": [],
   "source": [
    "plt.figure(figsize=(10,10))\n",
    "f2_2=sns.pairplot(snecon[\"Distance policy_diffusion_tie policy_diffusion_2000.2015 perceived_similarity fb_friend_index ACS_Migration PopDif IRS_migration Income Imports GSPDif\".split()])\n",
    "f2_2.savefig('/Users/josephthomas/Documents/Projects/State Networks/Data Cleaning/Out/f22econpairplot.png')"
   ]
  },
  {
   "cell_type": "markdown",
   "metadata": {},
   "source": [
    "Mention observed relationships here - What warrant further investigation"
   ]
  },
  {
   "cell_type": "code",
   "execution_count": null,
   "metadata": {},
   "outputs": [],
   "source": [
    "sn.loc[sn[\"fb_friend_index\"]>100][[\"dyadid\", \"Border\",\"fb_friend_index\"]].sort_values(\"fb_friend_index\", ascending=False)"
   ]
  },
  {
   "cell_type": "code",
   "execution_count": null,
   "metadata": {},
   "outputs": [],
   "source": [
    "sn.loc[sn[\"Border\"]==0][[\"dyadid\", \"Border\",\"fb_friend_index\", \"Distance\"]].sort_values(\"fb_friend_index\", ascending=False).head(20)"
   ]
  },
  {
   "cell_type": "markdown",
   "metadata": {},
   "source": [
    "Looking at FB Friends Across shared borders out of the states having friends in other states, New England states take the top 8/10 spots having friends in other NE states. The other two spots are occupied my Maryland in Delaware and vice versa.  And 18 of top 20 states share their border.\n",
    "\n",
    "MA and CA, NV and HI, HI and CA have fb friends in each other, not sharing borders and distance greater than 4000 miles."
   ]
  },
  {
   "cell_type": "markdown",
   "metadata": {},
   "source": [
    "`## Income relations"
   ]
  },
  {
   "cell_type": "code",
   "execution_count": null,
   "metadata": {},
   "outputs": [],
   "source": [
    "sns.jointplot(x=sn['Income'],y=sn['Imports'],kind='scatter')\n",
    "sns.lmplot(x='Income',y='Imports', data=sn)\n"
   ]
  },
  {
   "cell_type": "code",
   "execution_count": null,
   "metadata": {},
   "outputs": [],
   "source": [
    "sns.jointplot(x=sn['Income'],y=sn['ACS_Migration'],kind='scatter')\n",
    "sns.lmplot(x='Income',y='ACS_Migration', data=sn)"
   ]
  },
  {
   "cell_type": "code",
   "execution_count": null,
   "metadata": {},
   "outputs": [],
   "source": [
    "sns.jointplot(x=sn['Income'],y=sn['fb_friend_index'],kind='scatter')\n",
    "sns.lmplot(x='Income',y='fb_friend_index', data=sn)"
   ]
  },
  {
   "cell_type": "code",
   "execution_count": null,
   "metadata": {},
   "outputs": [],
   "source": [
    "sns.jointplot(x=sn['Income'],y=sn['IRS_migration'],kind='scatter')\n",
    "sns.lmplot(x='Income',y='IRS_migration', data=sn)"
   ]
  },
  {
   "cell_type": "markdown",
   "metadata": {},
   "source": [
    "Last Line Update 2"
   ]
  }
 ],
 "metadata": {
  "kernelspec": {
   "display_name": "Python 3",
   "language": "python",
   "name": "python3"
  },
  "language_info": {
   "codemirror_mode": {
    "name": "ipython",
    "version": 3
   },
   "file_extension": ".py",
   "mimetype": "text/x-python",
   "name": "python",
   "nbconvert_exporter": "python",
   "pygments_lexer": "ipython3",
   "version": "3.8.3"
  }
 },
 "nbformat": 4,
 "nbformat_minor": 4
}
