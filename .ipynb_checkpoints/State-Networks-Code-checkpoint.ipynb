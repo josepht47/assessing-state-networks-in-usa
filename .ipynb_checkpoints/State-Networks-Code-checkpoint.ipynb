{
 "cells": [
  {
   "cell_type": "markdown",
   "metadata": {},
   "source": [
    "# Assessing the characteristics of interstate relationships in the USA\n",
    "\n",
    "The State Networks dataset is a compilation of many state-to-state relational variables, including measures of shared borders, travel and trade between states, and demographic characteristics of state populations. The 2,550 units in the dataset are dyadic state-pairs (e.g., Alabama–Alaska, Alabama–Arizona, Alabama–Arkansas, and so on, for each state plus the District of Columbia). The data were collected from multiple sources and incorporate measures of similarity drawn from data in the Correlates of State Policy Project."
   ]
  },
  {
   "cell_type": "code",
   "execution_count": null,
   "metadata": {},
   "outputs": [],
   "source": [
    "import numpy as np\n",
    "import pandas as pd\n",
    "import numpy as np\n",
    "import seaborn as sns\n",
    "import matplotlib.pyplot as plt\n",
    "%matplotlib inline"
   ]
  },
  {
   "cell_type": "markdown",
   "metadata": {},
   "source": [
    "Opening Database"
   ]
  },
  {
   "cell_type": "code",
   "execution_count": null,
   "metadata": {},
   "outputs": [],
   "source": [
    "sn=pd.read_csv('/Users/josephthomas/Documents/Projects/State Networks/Data Cleaning/Raw Data/statenetworks.csv')"
   ]
  },
  {
   "cell_type": "code",
   "execution_count": null,
   "metadata": {},
   "outputs": [],
   "source": [
    "pd.options.display.max_rows =300"
   ]
  },
  {
   "cell_type": "code",
   "execution_count": null,
   "metadata": {},
   "outputs": [],
   "source": [
    "sn.columns"
   ]
  },
  {
   "cell_type": "markdown",
   "metadata": {},
   "source": [
    "**Snapshot of data and datatypes**"
   ]
  },
  {
   "cell_type": "code",
   "execution_count": null,
   "metadata": {},
   "outputs": [],
   "source": [
    "sn.describe()"
   ]
  },
  {
   "cell_type": "code",
   "execution_count": null,
   "metadata": {},
   "outputs": [],
   "source": [
    "sn.info()"
   ]
  },
  {
   "cell_type": "markdown",
   "metadata": {},
   "source": [
    "## Cleaning the Data\n",
    "Income, IRS Migration and IRS Migration 2020 are not numeral in the original database. Furthermore, Income has dollar signs and commas in its value."
   ]
  },
  {
   "cell_type": "code",
   "execution_count": null,
   "metadata": {},
   "outputs": [],
   "source": [
    "sn.dtypes"
   ]
  },
  {
   "cell_type": "markdown",
   "metadata": {},
   "source": [
    "**Converting some variables to categorical variables**"
   ]
  },
  {
   "cell_type": "code",
   "execution_count": null,
   "metadata": {},
   "outputs": [],
   "source": [
    "sn['S1region']=sn['S1region'].astype('category')\n",
    "sn['S2region']=sn['S2region'].astype('category')"
   ]
  },
  {
   "cell_type": "code",
   "execution_count": null,
   "metadata": {},
   "outputs": [],
   "source": [
    "sn['S1division']=sn['S1division'].astype('category')\n",
    "sn['S2division']=sn['S2division'].astype('category')"
   ]
  },
  {
   "cell_type": "code",
   "execution_count": null,
   "metadata": {},
   "outputs": [],
   "source": [
    "sn.dtypes"
   ]
  },
  {
   "cell_type": "markdown",
   "metadata": {},
   "source": [
    "**Dealing with missing variables**"
   ]
  },
  {
   "cell_type": "code",
   "execution_count": null,
   "metadata": {},
   "outputs": [],
   "source": [
    "sn.isnull().sum()"
   ]
  },
  {
   "cell_type": "markdown",
   "metadata": {},
   "source": [
    "DC has a lot of missing values"
   ]
  },
  {
   "cell_type": "code",
   "execution_count": null,
   "metadata": {},
   "outputs": [],
   "source": [
    "sn[sn[\"State1\"]==\"District of Columbia\"].isnull().sum()"
   ]
  },
  {
   "cell_type": "code",
   "execution_count": null,
   "metadata": {},
   "outputs": [],
   "source": [
    "sn=sn.drop(sn.index[sn[\"State1\"]==\"District of Columbia\"])\n",
    "sn=sn.drop(sn.index[sn[\"State2\"]==\"District of Columbia\"])"
   ]
  },
  {
   "cell_type": "code",
   "execution_count": null,
   "metadata": {
    "scrolled": false
   },
   "outputs": [],
   "source": [
    "sn[sn[\"S1SenDemProp\"].isnull()][\"State1\"].value_counts()"
   ]
  },
  {
   "cell_type": "code",
   "execution_count": null,
   "metadata": {},
   "outputs": [],
   "source": [
    "sn[sn[\"S2SenDemProp\"].isnull()][\"State2\"].value_counts()"
   ]
  },
  {
   "cell_type": "markdown",
   "metadata": {},
   "source": [
    "The missing values in State Senate Democrat Proportions is due to the unicameral charactristic of Nebraska State Legislation.\n",
    "\n",
    "_source: https://ballotpedia.org/Nebraska_State_Senate_elections,_2016_"
   ]
  },
  {
   "cell_type": "code",
   "execution_count": null,
   "metadata": {
    "scrolled": false
   },
   "outputs": [],
   "source": [
    "sn[\"S1SenDemProp\"]=sn[\"S1SenDemProp\"].replace([np.nan], 0.244898)"
   ]
  },
  {
   "cell_type": "code",
   "execution_count": null,
   "metadata": {},
   "outputs": [],
   "source": [
    "sn[\"S2SenDemProp\"]=sn[\"S2SenDemProp\"].replace([np.nan], 0.244898)"
   ]
  },
  {
   "cell_type": "markdown",
   "metadata": {},
   "source": [
    "House Proportions"
   ]
  },
  {
   "cell_type": "code",
   "execution_count": null,
   "metadata": {},
   "outputs": [],
   "source": [
    "sn[sn[\"S1HSDemProp\"].isnull()][\"State1\"].value_counts()"
   ]
  },
  {
   "cell_type": "code",
   "execution_count": null,
   "metadata": {},
   "outputs": [],
   "source": [
    "sn[sn[\"S2HSDemProp\"].isnull()][\"State2\"].value_counts()"
   ]
  },
  {
   "cell_type": "markdown",
   "metadata": {},
   "source": [
    "Since the state of Nebraska only has a unicameral parliament, its single house acts as both the House and Senate. Hence, the proportion of democrats remain the same for both houses."
   ]
  },
  {
   "cell_type": "code",
   "execution_count": null,
   "metadata": {},
   "outputs": [],
   "source": [
    "sn[\"S1HSDemProp\"]=sn[\"S1HSDemProp\"].replace([np.nan], 0.2448)"
   ]
  },
  {
   "cell_type": "code",
   "execution_count": null,
   "metadata": {},
   "outputs": [],
   "source": [
    "sn[\"S2HSDemProp\"]=sn[\"S2HSDemProp\"].replace([np.nan], 0.2448)"
   ]
  },
  {
   "cell_type": "markdown",
   "metadata": {},
   "source": [
    "Transforming the remaining political variables including this filled information"
   ]
  },
  {
   "cell_type": "code",
   "execution_count": null,
   "metadata": {},
   "outputs": [],
   "source": [
    "sn[\"S1AvgDem\"]=(sn[\"S1SenDemProp\"]+sn[\"S1HSDemProp\"])/2\n",
    "sn[\"S2AvgDem\"]=(sn[\"S2SenDemProp\"]+sn[\"S2HSDemProp\"])/2\n",
    "sn[\"DemDif\"]=sn[\"S1AvgDem\"]-sn[\"S2AvgDem\"]"
   ]
  },
  {
   "cell_type": "code",
   "execution_count": null,
   "metadata": {},
   "outputs": [],
   "source": [
    "sn[sn[\"State1PolSocLib\"].isnull()][\"State1\"].value_counts()"
   ]
  },
  {
   "cell_type": "code",
   "execution_count": null,
   "metadata": {},
   "outputs": [],
   "source": [
    "sn[\"S1EconomicLiberalism S1SocialLiberalism State1PolSocLib State1PolEconLib State1MassSocLib State1MassEconLib\".split()].corr()"
   ]
  },
  {
   "cell_type": "code",
   "execution_count": null,
   "metadata": {},
   "outputs": [],
   "source": [
    "sns.heatmap(sn[\"S1EconomicLiberalism S1SocialLiberalism State1PolSocLib State1PolEconLib State1MassSocLib State1MassEconLib\".split()].corr())"
   ]
  },
  {
   "cell_type": "code",
   "execution_count": null,
   "metadata": {},
   "outputs": [],
   "source": [
    "sn[\"S2EconomicLiberalism S2SocialLiberalism State2PolSocLib State2PolEconLib State2MassSocLib State2MassEconLib\".split()].corr()"
   ]
  },
  {
   "cell_type": "code",
   "execution_count": null,
   "metadata": {},
   "outputs": [],
   "source": [
    "sns.heatmap(sn[\"S2EconomicLiberalism S2SocialLiberalism State2PolSocLib State2PolEconLib State2MassSocLib State2MassEconLib\".split()].corr())"
   ]
  },
  {
   "cell_type": "markdown",
   "metadata": {},
   "source": [
    "There is strong correlation between the aggregated and disaggregated liberalism score indices with a disproportionately large number of missing values in the aggregated indices. This is sufficient cause to drop the aggregated liberalism indices and fix missing value issues in the disaggregated liberalism scores."
   ]
  },
  {
   "cell_type": "code",
   "execution_count": null,
   "metadata": {},
   "outputs": [],
   "source": [
    "delpsl=sn[sn[\"State1\"]==\"Delaware\"][\"State1PolSocLib\"].head(1).item()\n",
    "delpel=sn[sn[\"State1\"]==\"Delaware\"][\"State1PolEconLib\"].head(1).item()\n",
    "delmsl=sn[sn[\"State1\"]==\"Delaware\"][\"State1MassSocLib\"].head(1).item()\n",
    "delmel=sn[sn[\"State1\"]==\"Delaware\"][\"State1MassEconLib\"].head(1).item()"
   ]
  },
  {
   "cell_type": "code",
   "execution_count": null,
   "metadata": {},
   "outputs": [],
   "source": [
    "sn[\"State2PolSocLib\"]=sn[\"State2PolSocLib\"].replace(np.nan,delpsl)\n",
    "sn[\"State2PolEconLib\"]=sn[\"State2PolEconLib\"].replace(np.nan,delpel)\n",
    "sn[\"State2MassSocLib\"]=sn[\"State2MassSocLib\"].replace(np.nan,delmsl)\n",
    "sn[\"State2MassEconLib\"]=sn[\"State2MassEconLib\"].replace(np.nan,delmel)"
   ]
  },
  {
   "cell_type": "code",
   "execution_count": null,
   "metadata": {},
   "outputs": [],
   "source": [
    "sn[\"PolSocLibDif\"]=sn[\"State1PolSocLib\"]-sn[\"State2PolSocLib\"]\n",
    "sn[\"PolEconLibDif\"]=sn[\"State1PolEconLib\"]-sn[\"State2PolEconLib\"]\n",
    "sn[\"MassSocLibDif\"]=sn[\"State1MassSocLib\"]-sn[\"State2MassSocLib\"]\n",
    "sn[\"MassEconLibDif\"]=sn[\"State1MassEconLib\"]-sn[\"State2MassEconLib\"]"
   ]
  },
  {
   "cell_type": "code",
   "execution_count": null,
   "metadata": {},
   "outputs": [],
   "source": []
  },
  {
   "cell_type": "code",
   "execution_count": null,
   "metadata": {},
   "outputs": [],
   "source": [
    "to_drop = \"State1Abbr State2Abbr State1 State2 LibDif ELibDif SLibDif S1EconomicLiberalism S1SocialLiberalism S2EconomicLiberalism S2SocialLiberalism\".split()"
   ]
  },
  {
   "cell_type": "code",
   "execution_count": null,
   "metadata": {},
   "outputs": [],
   "source": [
    "sn=sn.drop(to_drop, axis=1)"
   ]
  },
  {
   "cell_type": "code",
   "execution_count": null,
   "metadata": {},
   "outputs": [],
   "source": [
    "sn.isnull().sum()"
   ]
  },
  {
   "cell_type": "code",
   "execution_count": null,
   "metadata": {},
   "outputs": [],
   "source": []
  },
  {
   "cell_type": "code",
   "execution_count": null,
   "metadata": {},
   "outputs": [],
   "source": [
    "sn[\"SameRegion\"]= sn[\"S1region\"]==sn[\"S2region\"]\n",
    "sn[\"SameDivision\"]= sn[\"S1division\"]==sn[\"S2division\"]"
   ]
  },
  {
   "cell_type": "code",
   "execution_count": null,
   "metadata": {},
   "outputs": [],
   "source": [
    "varlist=\"dyadid S1region S2region SameRegion S1division S2division SameDivision Border Distance PopDif ACS_Migration State1_Pop State2_Pop IncomingFlights IRS_migration IRS_migration_2010 Income Income_2010 Imports GSPDif S1GSP S2GSP DemDif S1AvgDem S2AvgDem S1SenDemProp S1HSDemProp S2SenDemProp S2HSDemProp IdeologyDif PIDDif S1Ideology S1PID S2Ideology S2PID policy_diffusion_tie policy_diffusion_2015 policy_diffusion_2000.2015 MassSocLibDif MassEconLibDif PolSocLibDif PolEconLibDif State1PolSocLib State1PolEconLib State1MassSocLib State1MassEconLib State2PolSocLib State2PolEconLib State2MassSocLib State2MassEconLib perceived_similarity fb_friend_index RaceDif LatinoDif WhiteDif BlackDif AsianDif NativeDif S1Latino S1White S1Black S1Asian S1Native S2Latino S2White S2Black S2Asian S2Native ReligDif ChristianDif JewishDif MuslimDif BuddhistDif HinduDif NonesDif NPDif S1Christian S1Jewish S1Muslim S1Buddhist S1Hindu S1Nones S1NothingParticular S1HighlyReligious S2Christian S2Jewish S2Muslim S2Buddhist S2Hindu S2Nones S2NothingParticular S2HighlyReligious\".split()"
   ]
  },
  {
   "cell_type": "code",
   "execution_count": 285,
   "metadata": {},
   "outputs": [],
   "source": [
    "econvar= \"Border Distance policy_diffusion_tie policy_diffusion_2015 policy_diffusion_2000.2015 perceived_similarity fb_friend_index PopDif ACS_Migration State1_Pop State2_Pop IncomingFlights IRS_migration IRS_migration_2010 Income Income_2010 Imports GSPDif S1GSP S2GSP\".split()"
   ]
  },
  {
   "cell_type": "code",
   "execution_count": 286,
   "metadata": {},
   "outputs": [],
   "source": [
    "snecon=sn.loc[:,econvar]"
   ]
  },
  {
   "cell_type": "code",
   "execution_count": 287,
   "metadata": {},
   "outputs": [
    {
     "name": "stdout",
     "output_type": "stream",
     "text": [
      "<class 'pandas.core.frame.DataFrame'>\n",
      "Int64Index: 2450 entries, 0 to 2549\n",
      "Data columns (total 20 columns):\n",
      " #   Column                      Non-Null Count  Dtype  \n",
      "---  ------                      --------------  -----  \n",
      " 0   Border                      2450 non-null   int64  \n",
      " 1   Distance                    2450 non-null   float64\n",
      " 2   policy_diffusion_tie        2450 non-null   float64\n",
      " 3   policy_diffusion_2015       2450 non-null   float64\n",
      " 4   policy_diffusion_2000.2015  2450 non-null   float64\n",
      " 5   perceived_similarity        2450 non-null   float64\n",
      " 6   fb_friend_index             2450 non-null   float64\n",
      " 7   PopDif                      2450 non-null   int64  \n",
      " 8   ACS_Migration               2450 non-null   int64  \n",
      " 9   State1_Pop                  2450 non-null   int64  \n",
      " 10  State2_Pop                  2450 non-null   int64  \n",
      " 11  IncomingFlights             2450 non-null   int64  \n",
      " 12  IRS_migration               2450 non-null   float64\n",
      " 13  IRS_migration_2010          2450 non-null   float64\n",
      " 14  Income                      2450 non-null   int64  \n",
      " 15  Income_2010                 2450 non-null   int64  \n",
      " 16  Imports                     2449 non-null   float64\n",
      " 17  GSPDif                      2450 non-null   int64  \n",
      " 18  S1GSP                       2450 non-null   int64  \n",
      " 19  S2GSP                       2450 non-null   int64  \n",
      "dtypes: float64(9), int64(11)\n",
      "memory usage: 402.0 KB\n"
     ]
    }
   ],
   "source": [
    "snecon.info()"
   ]
  },
  {
   "cell_type": "code",
   "execution_count": null,
   "metadata": {},
   "outputs": [],
   "source": []
  },
  {
   "cell_type": "markdown",
   "metadata": {},
   "source": [
    "## Data Analysis and Visualization"
   ]
  },
  {
   "cell_type": "code",
   "execution_count": null,
   "metadata": {},
   "outputs": [],
   "source": [
    "sns.set_context(\"notebook\")\n",
    "color = sns.color_palette(\"twilight\")"
   ]
  },
  {
   "cell_type": "markdown",
   "metadata": {},
   "source": [
    "Analysing relevance of location variables for interstate relations"
   ]
  },
  {
   "cell_type": "code",
   "execution_count": null,
   "metadata": {},
   "outputs": [],
   "source": [
    "f1, ax = plt.subplots(2,3, figsize=(20,15))\n",
    "f1.suptitle(\"Border Sharing effects\")\n",
    "sns.barplot(x='Border', y='Border',data=sn,estimator=lambda x: len(x) / len(sn) * 100, ax=ax[0,0])\n",
    "ax[0,0].set(ylabel=\"Percent\", xlabel = \"Border (Y=1,N=0)\", title = 'Percentage that shares borders')\n",
    "sns.boxplot(x='Border', y='fb_friend_index',data=sn, ax=ax[0,1])\n",
    "ax[0,1].set(ylabel=\"FB Friends\", xlabel = \"Border (Y=1,N=0)\", title = 'Likelihood of having facebook friends in other state')\n",
    "sns.boxplot(x='Border', y='ACS_Migration',data=sn, ax=ax[0,2])\n",
    "ax[0,2].set(ylabel=\"ACS Migration\", xlabel = \"Border (Y=1,N=0)\", title = 'State to state migration')\n",
    "sns.boxplot(x='Border', y='IRS_migration',data=sn, ax=ax[1,0])\n",
    "ax[1,0].set(ylabel=\"IRS Migration\", xlabel = \"Border (Y=1,N=0)\", title = 'Tax ememptions due to relocation')\n",
    "sns.boxplot(x='Border', y='policy_diffusion_tie',data=sn, ax=ax[1,1])\n",
    "ax[1,1].set(ylabel=\"Policy Diffusion Ties\", xlabel = \"Border (Y=1,N=0)\", title = 'Use of state as a source of policy making')\n",
    "sns.boxplot(x='Border', y='perceived_similarity',data=sn, ax=ax[1,2])\n",
    "ax[1,2].set(ylabel=\"Percieved Similarity\", xlabel = \"Border (Y=1,N=0)\", title = \"People's perception of similarity\")\n",
    "f1.savefig('/Users/josephthomas/Documents/Projects/State Networks/Data Cleaning/Out/f11Border.png')"
   ]
  },
  {
   "cell_type": "code",
   "execution_count": null,
   "metadata": {},
   "outputs": [],
   "source": [
    "f12, ax = plt.subplots(2,3, figsize=(20,18))\n",
    "f12.suptitle(\"Region Sharing effects\")\n",
    "sns.barplot(x='SameRegion', y='SameRegion',data=sn,estimator=lambda x: len(x) / len(sn) * 100, ax=ax[0,0])\n",
    "ax[0,0].set(ylabel=\"Percent\", xlabel = \"Same Region (Y=1,N=0)\", title = 'Percentage that shares Same Region')\n",
    "sns.boxplot(x='SameRegion', y='fb_friend_index',data=sn, ax=ax[0,1])\n",
    "ax[0,1].set(ylabel=\"FB Friends\", xlabel = \"Same Region (Y=1,N=0)\", title = 'Likelihood of having facebook friends in other state')\n",
    "sns.boxplot(x='SameRegion', y='ACS_Migration',data=sn, ax=ax[0,2])\n",
    "ax[0,2].set(ylabel=\"ACS Migration\", xlabel = \"Same Region (Y=1,N=0)\", title = 'State to state migration')\n",
    "sns.boxplot(x='SameRegion', y='IRS_migration',data=sn, ax=ax[1,0])\n",
    "ax[1,0].set(ylabel=\"IRS Migration\", xlabel = \"Same Region (Y=1,N=0)\", title = 'Tax ememptions due to relocation')\n",
    "sns.boxplot(x='SameRegion', y='policy_diffusion_tie',data=sn, ax=ax[1,1])\n",
    "ax[1,1].set(ylabel=\"Policy Diffusion Ties\", xlabel = \"Same Region (Y=1,N=0)\", title = 'Use of state as a source of policy making')\n",
    "sns.boxplot(x='SameRegion', y='perceived_similarity',data=sn, ax=ax[1,2])\n",
    "ax[1,2].set(ylabel=\"Percieved Similarity\", xlabel = \"Same Region (Y=1,N=0)\", title = \"People's perception of similarity\")\n",
    "f12.savefig('/Users/josephthomas/Documents/Projects/State Networks/Data Cleaning/Out/f12Region.png')"
   ]
  },
  {
   "cell_type": "code",
   "execution_count": null,
   "metadata": {},
   "outputs": [],
   "source": [
    "f12, ax = plt.subplots(2,3, figsize=(30,18))\n",
    "f12.suptitle(\"Region Sharing effects\")\n",
    "sns.barplot(x='SameRegion', y='SameRegion',data=sn,estimator=lambda x: len(x) / len(sn) * 100, ax=ax[0,0])\n",
    "ax[0,0].set(ylabel=\"Percent\", xlabel = \"Same Region (Y=1,N=0)\", title = 'Percentage that shares Same Region')\n",
    "sns.violinplot(x='SameRegion', y='fb_friend_index',data=sn, ax=ax[0,1])\n",
    "ax[0,1].set(ylabel=\"FB Friends\", xlabel = \"Same Region (Y=1,N=0)\", title = 'Likelihood of having facebook friends in other state')\n",
    "sns.violinplot(x='SameRegion', y='ACS_Migration',data=sn, ax=ax[0,2])\n",
    "ax[0,2].set(ylabel=\"ACS Migration\", xlabel = \"Same Region (Y=1,N=0)\", title = 'State to state migration')\n",
    "sns.violinplot(x='SameRegion', y='IRS_migration',data=sn, ax=ax[1,0])\n",
    "ax[1,0].set(ylabel=\"IRS Migration\", xlabel = \"Same Region (Y=1,N=0)\", title = 'Tax ememptions due to relocation')\n",
    "sns.violinplot(x='SameRegion', y='policy_diffusion_tie',data=sn, ax=ax[1,1])\n",
    "ax[1,1].set(ylabel=\"Policy Diffusion Ties\", xlabel = \"Same Region (Y=1,N=0)\", title = 'Use of state as a source of policy making')\n",
    "sns.violinplot(x='SameRegion', y='perceived_similarity',data=sn, ax=ax[1,2])\n",
    "ax[1,2].set(ylabel=\"Percieved Similarity\", xlabel = \"Same Region (Y=1,N=0)\", title = \"People's perception of similarity\")\n",
    "f12.savefig('/Users/josephthomas/Documents/Projects/State Networks/Data Cleaning/Out/f12RegionV.png')"
   ]
  },
  {
   "cell_type": "code",
   "execution_count": null,
   "metadata": {},
   "outputs": [],
   "source": [
    "f13=plt.figure()\n",
    "ax=f13.add_subplot(1,1,1)\n",
    "sns.countplot(x='S1region',data=sn, ax=ax)"
   ]
  },
  {
   "cell_type": "code",
   "execution_count": null,
   "metadata": {},
   "outputs": [],
   "source": [
    "sn.loc[sn[\"fb_friend_index\"]>100][[\"dyadid\", \"Border\",\"fb_friend_index\"]].sort_values(\"fb_friend_index\", ascending=False).head(20)"
   ]
  },
  {
   "cell_type": "code",
   "execution_count": null,
   "metadata": {},
   "outputs": [],
   "source": [
    "sn.loc[sn[\"Border\"]==0][[\"dyadid\", \"Border\",\"fb_friend_index\", \"Distance\"]].sort_values(\"fb_friend_index\", ascending=False).head(20)"
   ]
  },
  {
   "cell_type": "markdown",
   "metadata": {},
   "source": [
    "Looking at FB Friends Across shared borders out of the states having friends in other states, New England states take the top 8/10 spots having friends in other NE states. The other two spots are occupied by Maryland and Delaware and vice versa.  And 18 of top 20 states share their border.\n",
    "\n",
    "MA and CA, NV and HI, HI and CA have fb friends in each other, not sharing borders and distance greater than 4000 miles."
   ]
  },
  {
   "cell_type": "code",
   "execution_count": null,
   "metadata": {},
   "outputs": [],
   "source": []
  },
  {
   "cell_type": "code",
   "execution_count": null,
   "metadata": {},
   "outputs": [],
   "source": []
  },
  {
   "cell_type": "code",
   "execution_count": null,
   "metadata": {},
   "outputs": [],
   "source": [
    "f14, ax = plt.subplots(2,3, figsize=(30,18))\n",
    "f14.suptitle(\"Division Sharing effects\")\n",
    "sns.barplot(x='SameDivision', y='SameDivision',data=sn,estimator=lambda x: len(x) / len(sn) * 100, ax=ax[0,0])\n",
    "ax[0,0].set(ylabel=\"Percent\", xlabel = \"Same Division (Y=1,N=0)\", title = 'Percentage that shares Same Division')\n",
    "sns.violinplot(x='SameDivision', y='fb_friend_index',data=sn, ax=ax[0,1])\n",
    "ax[0,1].set(ylabel=\"FB Friends\", xlabel = \"Same Division (Y=1,N=0)\", title = 'Likelihood of having facebook friends in other state')\n",
    "sns.violinplot(x='SameDivision', y='ACS_Migration',data=sn, ax=ax[0,2])\n",
    "ax[0,2].set(ylabel=\"ACS Migration\", xlabel = \"SameDivision (Y=1,N=0)\", title = 'State to state migration')\n",
    "sns.violinplot(x='SameDivision', y='IRS_migration',data=sn, ax=ax[1,0])\n",
    "ax[1,0].set(ylabel=\"IRS Migration\", xlabel = \"Same Region (Y=1,N=0)\", title = 'Tax ememptions due to relocation')\n",
    "sns.violinplot(x='SameDivision', y='policy_diffusion_tie',data=sn, ax=ax[1,1])\n",
    "ax[1,1].set(ylabel=\"Policy Diffusion Ties\", xlabel = \"SameDivision (Y=1,N=0)\", title = 'Use of state as a source of policy making')\n",
    "sns.violinplot(x='SameDivision', y='perceived_similarity',data=sn, ax=ax[1,2])\n",
    "ax[1,2].set(ylabel=\"Percieved Similarity\", xlabel = \"SameDivision (Y=1,N=0)\", title = \"People's perception of similarity\")\n",
    "f14.savefig('/Users/josephthomas/Documents/Projects/State Networks/Data Cleaning/Out/f14DivisionV.png')"
   ]
  },
  {
   "cell_type": "markdown",
   "metadata": {},
   "source": [
    "Location Variables done"
   ]
  },
  {
   "cell_type": "markdown",
   "metadata": {},
   "source": [
    "Economy Varibles"
   ]
  },
  {
   "cell_type": "code",
   "execution_count": null,
   "metadata": {},
   "outputs": [],
   "source": [
    "f21=sns.pairplot(snecon[\"Distance policy_diffusion_tie policy_diffusion_2015 policy_diffusion_2000.2015 perceived_similarity fb_friend_index ACS_Migration State1_Pop State2_Pop IncomingFlights IRS_migration Income Imports GSPDif\".split()])"
   ]
  },
  {
   "cell_type": "code",
   "execution_count": null,
   "metadata": {},
   "outputs": [],
   "source": [
    "f21.savefig('/Users/josephthomas/Documents/Projects/State Networks/Data Cleaning/Out/f21econpairplot.png')"
   ]
  },
  {
   "cell_type": "markdown",
   "metadata": {},
   "source": [
    "Selecting out variables that show some kind of relationships"
   ]
  },
  {
   "cell_type": "code",
   "execution_count": null,
   "metadata": {},
   "outputs": [],
   "source": [
    "plt.figure(figsize=(10,10))\n",
    "f2_2=sns.pairplot(snecon[\"policy_diffusion_tie policy_diffusion_2000.2015 perceived_similarity fb_friend_index ACS_Migration PopDif IRS_migration Income Imports GSPDif\".split()])\n",
    "f2_2.savefig('/Users/josephthomas/Documents/Projects/State Networks/Data Cleaning/Out/f22econpairplot.png')"
   ]
  },
  {
   "cell_type": "markdown",
   "metadata": {},
   "source": [
    "Mention observed relationships here - What warrant further investigation"
   ]
  },
  {
   "cell_type": "markdown",
   "metadata": {},
   "source": [
    "`## Income relations"
   ]
  },
  {
   "cell_type": "code",
   "execution_count": null,
   "metadata": {},
   "outputs": [],
   "source": [
    "f23, axes = plt.subplots(3, 2, figsize=(15,18))\n",
    "f23.suptitle(\"Income Relations between states\")\n",
    "sns.regplot(x='Income',y='Imports', data=sn, ax=axes[0,0])\n",
    "axes[0,0].set(ylabel=\"Imports from state to state\", xlabel = \"Income moved from State to state\", title = 'Movement of Gross Income and Goods')\n",
    "sns.regplot(x='Income',y='ACS_Migration', data=sn, ax=axes[0,1])\n",
    "axes[0,1].set(ylabel=\"Percent\", xlabel = \"Income moved from State to state\", title = 'Movement of Income and People')\n",
    "sns.regplot(x='Income',y='fb_friend_index', data=sn, ax=axes[1,0])\n",
    "axes[1,0].set(ylabel=\"FB Friends\", xlabel = \"Income moved from State to state\", title = 'Income and likelihood of having FB friends')\n",
    "sns.regplot(x='Income',y='IRS_migration', data=sn, ax=axes[2,1])\n",
    "axes[2,1].set(ylabel=\"Movt of Tax\", xlabel = \"Income moved from State to state\", title = 'Movement of Gross Income and Personal Taxes')\n",
    "sns.regplot(x='Income',y='policy_diffusion_tie', data=sn, ax=axes[2,0])\n",
    "axes[2,0].set(ylabel=\"Policy references\", xlabel = \"Income moved from State to state\", title = 'Policy References and Income transfers')\n",
    "sns.regplot(x='Income',y='perceived_similarity', data=sn, ax=axes[1,1])\n",
    "axes[1,1].set(ylabel=\"Percieved similarity\", xlabel = \"Income moved from State to state\", title = 'Percieved similarity and Income transfers')\n",
    "f23.savefig('/Users/josephthomas/Documents/Projects/State Networks/Data Cleaning/Out/f23Incomelmplot.png')"
   ]
  },
  {
   "cell_type": "code",
   "execution_count": null,
   "metadata": {},
   "outputs": [],
   "source": []
  },
  {
   "cell_type": "code",
   "execution_count": null,
   "metadata": {},
   "outputs": [],
   "source": [
    "c=float(input(\"Quantile of Observations to consider (0,1) \") or \"0.99\")"
   ]
  },
  {
   "cell_type": "markdown",
   "metadata": {},
   "source": [
    "f24, axes = plt.subplots(3, 2, figsize=(15,18))\n",
    "f24.suptitle(\"Income Relations between states excluding large outliers (Only {} percent of data considered)\".format(c*100))\n",
    "sns.regplot(x='Income',y='Imports', data=sn[sn[\"Income\"]<=sn[\"Income\"].quantile(c)], ax=axes[0,0])\n",
    "axes[0,0].set(ylabel=\"Imports from state to state\", xlabel = \"Income moved from State to state\", title = 'Movement of Gross Income and Goods')\n",
    "sns.regplot(x='Income',y='ACS_Migration', data=sn[sn[\"Income\"]<=sn[\"Income\"].quantile(c)], ax=axes[0,1])\n",
    "axes[0,1].set(ylabel=\"Percent\", xlabel = \"Income moved from State to state\", title = 'Movement of Income and People')\n",
    "sns.regplot(x='Income',y='fb_friend_index', data=sn[sn[\"Income\"]<=sn[\"Income\"].quantile(c)], ax=axes[1,0])\n",
    "axes[1,0].set(ylabel=\"FB Friends\", xlabel = \"Income moved from State to state\", title = 'Income and likelihood of having FB friends')\n",
    "sns.regplot(x='Income',y='IRS_migration', data=sn[sn[\"Income\"]<=sn[\"Income\"].quantile(c)], ax=axes[2,1])\n",
    "axes[2,1].set(ylabel=\"Movt of Tax\", xlabel = \"Income moved from State to state\", title = 'Movement of Gross Income and Personal Taxes')\n",
    "sns.regplot(x='Income',y='policy_diffusion_tie', data=sn[sn[\"Income\"]<=sn[\"Income\"].quantile(c)], ax=axes[2,0])\n",
    "axes[2,0].set(ylabel=\"Policy references\", xlabel = \"Income moved from State to state\", title = 'Policy References and Income transfers')\n",
    "sns.regplot(x='Income',y='perceived_similarity', data=sn[sn[\"Income\"]<=sn[\"Income\"].quantile(c)], ax=axes[1,1])\n",
    "axes[1,1].set(ylabel=\"Percieved similarity\", xlabel = \"Income moved from State to state\", title = 'Percieved similarity and Income transfers')\n",
    "f24.savefig('/Users/josephthomas/Documents/Projects/State Networks/Data Cleaning/Out/f24IncomeNOutlmplot.png')"
   ]
  },
  {
   "cell_type": "code",
   "execution_count": null,
   "metadata": {},
   "outputs": [],
   "source": [
    "f25, axes = plt.subplots(2,3, figsize=(20,10))\n",
    "f25.suptitle(\"Migration and Inter-State Relations\")\n",
    "sns.regplot(x=\"IRS_migration\", y=\"fb_friend_index\", data=sn, ax=axes[0,0])\n",
    "sns.regplot(x=\"IRS_migration\", y=\"perceived_similarity\", data=sn, ax=axes[0,1])\n",
    "sns.regplot(x=\"IRS_migration\", y=\"policy_diffusion_tie\", data=sn, ax=axes[0,2])\n",
    "sns.regplot(x=\"ACS_Migration\", y=\"fb_friend_index\", data=sn, ax=axes[1,0])\n",
    "sns.regplot(x=\"ACS_Migration\", y=\"perceived_similarity\", data=sn, ax=axes[1,1])\n",
    "sns.regplot(x=\"ACS_Migration\", y=\"policy_diffusion_tie\", data=sn, ax=axes[1,2])"
   ]
  },
  {
   "cell_type": "code",
   "execution_count": null,
   "metadata": {},
   "outputs": [],
   "source": []
  },
  {
   "cell_type": "code",
   "execution_count": null,
   "metadata": {},
   "outputs": [],
   "source": [
    "f31, axes = plt.subplots(3,3, figsize=(20,20))\n",
    "f31.suptitle(\"Politics and Inter-State Relations\")\n",
    "sns.regplot(x=\"DemDif\", y=\"fb_friend_index\", data=sn, ax=axes[0,0], order=2)\n",
    "sns.regplot(x=\"DemDif\", y=\"perceived_similarity\", data=sn, ax=axes[0,1], order=2)\n",
    "sns.regplot(x=\"DemDif\", y=\"policy_diffusion_tie\", data=sn, ax=axes[0,2], order=2)\n",
    "sns.regplot(x=\"PIDDif\", y=\"fb_friend_index\", data=sn, ax=axes[1,0], order=2)\n",
    "sns.regplot(x=\"PIDDif\", y=\"perceived_similarity\", data=sn, ax=axes[1,1], order=2)\n",
    "sns.regplot(x=\"PIDDif\", y=\"policy_diffusion_tie\", data=sn, ax=axes[1,2], order=2)\n",
    "sns.regplot(x=\"IdeologyDif\", y=\"fb_friend_index\", data=sn, ax=axes[2,0], order=2)\n",
    "sns.regplot(x=\"IdeologyDif\", y=\"perceived_similarity\", data=sn, ax=axes[2,1], order=2)\n",
    "sns.regplot(x=\"IdeologyDif\", y=\"policy_diffusion_tie\", data=sn, ax=axes[2,2], order=2)"
   ]
  },
  {
   "cell_type": "code",
   "execution_count": null,
   "metadata": {},
   "outputs": [],
   "source": [
    "f32, axes = plt.subplots(4,3, figsize=(20,20))\n",
    "f32.suptitle(\"Liberal Thought and Inter-State Relations\")\n",
    "sns.regplot(x=\"MassSocLibDif\", y=\"fb_friend_index\", data=sn, ax=axes[0,0], order=2)\n",
    "sns.regplot(x=\"MassSocLibDif\", y=\"perceived_similarity\", data=sn, ax=axes[0,1], order=2)\n",
    "sns.regplot(x=\"MassSocLibDif\", y=\"policy_diffusion_tie\", data=sn, ax=axes[0,2], order=2)\n",
    "sns.regplot(x=\"MassEconLibDif\", y=\"fb_friend_index\", data=sn, ax=axes[1,0], order=2)\n",
    "sns.regplot(x=\"MassEconLibDif\", y=\"perceived_similarity\", data=sn, ax=axes[1,1], order=2)\n",
    "sns.regplot(x=\"MassEconLibDif\", y=\"policy_diffusion_tie\", data=sn, ax=axes[1,2], order=2)\n",
    "sns.regplot(x=\"PolSocLibDif\", y=\"fb_friend_index\", data=sn, ax=axes[2,0], order=2)\n",
    "sns.regplot(x=\"PolSocLibDif\", y=\"perceived_similarity\", data=sn, ax=axes[2,1], order=2)\n",
    "sns.regplot(x=\"PolSocLibDif\", y=\"policy_diffusion_tie\", data=sn, ax=axes[2,2], order=2)\n",
    "sns.regplot(x=\"PolEconLibDif\", y=\"fb_friend_index\", data=sn, ax=axes[3,0], order=2)\n",
    "sns.regplot(x=\"PolEconLibDif\", y=\"perceived_similarity\", data=sn, ax=axes[3,1], order=2)\n",
    "sns.regplot(x=\"PolEconLibDif\", y=\"policy_diffusion_tie\", data=sn, ax=axes[3,2], order=2)"
   ]
  },
  {
   "cell_type": "code",
   "execution_count": null,
   "metadata": {},
   "outputs": [],
   "source": [
    "f41, axes = plt.subplots(3,4, figsize=(20,20))\n",
    "f41.suptitle(\"Racial Composition and Inter-State Relations\")\n",
    "sns.regplot(x=\"NativeDif\", y=\"fb_friend_index\", data=sn, ax=axes[0,0], order=2)\n",
    "sns.regplot(x=\"NativeDif\", y=\"perceived_similarity\", data=sn, ax=axes[1,0], order=2)\n",
    "sns.regplot(x=\"NativeDif\", y=\"policy_diffusion_tie\", data=sn, ax=axes[2,0], order=2)\n",
    "sns.regplot(x=\"LatinoDif\", y=\"fb_friend_index\", data=sn, ax=axes[0,1], order=2)\n",
    "sns.regplot(x=\"LatinoDif\", y=\"perceived_similarity\", data=sn, ax=axes[1,1], order=2)\n",
    "sns.regplot(x=\"LatinoDif\", y=\"policy_diffusion_tie\", data=sn, ax=axes[2,1], order=2)\n",
    "sns.regplot(x=\"WhiteDif\", y=\"fb_friend_index\", data=sn, ax=axes[0,2], order=2)\n",
    "sns.regplot(x=\"WhiteDif\", y=\"perceived_similarity\", data=sn, ax=axes[1,2], order=2)\n",
    "sns.regplot(x=\"WhiteDif\", y=\"policy_diffusion_tie\", data=sn, ax=axes[2,2], order=2)\n",
    "sns.regplot(x=\"BlackDif\", y=\"fb_friend_index\", data=sn, ax=axes[0,3], order=2)\n",
    "sns.regplot(x=\"BlackDif\", y=\"perceived_similarity\", data=sn, ax=axes[1,3], order=2)\n",
    "sns.regplot(x=\"BlackDif\", y=\"policy_diffusion_tie\", data=sn, ax=axes[2,3], order=2)"
   ]
  },
  {
   "cell_type": "code",
   "execution_count": null,
   "metadata": {},
   "outputs": [],
   "source": []
  },
  {
   "cell_type": "code",
   "execution_count": null,
   "metadata": {},
   "outputs": [],
   "source": [
    "f42, axes = plt.subplots(3,4, figsize=(20,20))\n",
    "f42.suptitle(\"Religious Composition and Inter-State Relations\")\n",
    "sns.regplot(x=\"ChristianDif\", y=\"fb_friend_index\", data=sn, ax=axes[0,0], order=2)\n",
    "sns.regplot(x=\"ChristianDif\", y=\"perceived_similarity\", data=sn, ax=axes[1,0], order=2)\n",
    "sns.regplot(x=\"ChristianDif\", y=\"policy_diffusion_tie\", data=sn, ax=axes[2,0], order=2)\n",
    "sns.regplot(x=\"EvangelicalDif\", y=\"fb_friend_index\", data=sn, ax=axes[0,1], order=2)\n",
    "sns.regplot(x=\"EvangelicalDif\", y=\"perceived_similarity\", data=sn, ax=axes[1,1], order=2)\n",
    "sns.regplot(x=\"EvangelicalDif\", y=\"policy_diffusion_tie\", data=sn, ax=axes[2,1], order=2)\n",
    "sns.regplot(x=\"MuslimDif\", y=\"fb_friend_index\", data=sn, ax=axes[0,2], order=2)\n",
    "sns.regplot(x=\"MuslimDif\", y=\"perceived_similarity\", data=sn, ax=axes[1,2], order=2)\n",
    "sns.regplot(x=\"MuslimDif\", y=\"policy_diffusion_tie\", data=sn, ax=axes[2,2], order=2)\n",
    "sns.regplot(x=\"NonesDif\", y=\"fb_friend_index\", data=sn, ax=axes[0,3], order=2)\n",
    "sns.regplot(x=\"NonesDif\", y=\"perceived_similarity\", data=sn, ax=axes[1,3], order=2)\n",
    "sns.regplot(x=\"NonesDif\", y=\"policy_diffusion_tie\", data=sn, ax=axes[2,3], order=2)"
   ]
  },
  {
   "cell_type": "code",
   "execution_count": null,
   "metadata": {},
   "outputs": [],
   "source": []
  },
  {
   "cell_type": "code",
   "execution_count": null,
   "metadata": {},
   "outputs": [],
   "source": [
    "sns.clustermap(sn[sn[\"Income\"]<=sn[\"Income\"].quantile(.95)][\"SameRegion SameDivision Border Distance ACS_Migration IncomingFlights IRS_migration Income GSPDif DemDif IdeologyDif PIDDif policy_diffusion_tie MassSocLibDif MassEconLibDif PolSocLibDif PolEconLibDif perceived_similarity fb_friend_index RaceDif LatinoDif WhiteDif BlackDif AsianDif NativeDif ReligDif ChristianDif JewishDif MuslimDif BuddhistDif HinduDif NonesDif NPDif\".split()])"
   ]
  },
  {
   "cell_type": "code",
   "execution_count": null,
   "metadata": {},
   "outputs": [],
   "source": []
  },
  {
   "cell_type": "code",
   "execution_count": null,
   "metadata": {},
   "outputs": [],
   "source": []
  },
  {
   "cell_type": "markdown",
   "metadata": {},
   "source": [
    "Last Line Update 3"
   ]
  },
  {
   "cell_type": "code",
   "execution_count": null,
   "metadata": {},
   "outputs": [],
   "source": []
  }
 ],
 "metadata": {
  "kernelspec": {
   "display_name": "Python 3",
   "language": "python",
   "name": "python3"
  },
  "language_info": {
   "codemirror_mode": {
    "name": "ipython",
    "version": 3
   },
   "file_extension": ".py",
   "mimetype": "text/x-python",
   "name": "python",
   "nbconvert_exporter": "python",
   "pygments_lexer": "ipython3",
   "version": "3.8.3"
  }
 },
 "nbformat": 4,
 "nbformat_minor": 4
}
